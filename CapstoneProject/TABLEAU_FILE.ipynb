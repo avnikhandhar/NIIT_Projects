{
 "cells": [
  {
   "cell_type": "code",
   "execution_count": 1,
   "id": "9bcc5c92",
   "metadata": {},
   "outputs": [],
   "source": [
    "import pandas as pd"
   ]
  },
  {
   "cell_type": "code",
   "execution_count": 2,
   "id": "b75054e6",
   "metadata": {},
   "outputs": [],
   "source": [
    "t = pd.read_csv('tableau.csv')"
   ]
  },
  {
   "cell_type": "code",
   "execution_count": 3,
   "id": "8c88f747",
   "metadata": {},
   "outputs": [
    {
     "data": {
      "text/plain": [
       "(4803, 19)"
      ]
     },
     "execution_count": 3,
     "metadata": {},
     "output_type": "execute_result"
    }
   ],
   "source": [
    "t.shape"
   ]
  },
  {
   "cell_type": "code",
   "execution_count": 4,
   "id": "ffdd76a6",
   "metadata": {},
   "outputs": [
    {
     "data": {
      "text/plain": [
       "Index(['Unnamed: 0', 'title_x', 'budget', 'genres', 'original_language',\n",
       "       'popularity', 'production_companies', 'production_countries',\n",
       "       'release_date', 'revenue', 'runtime', 'status', 'vote_average',\n",
       "       'vote_count', 'Director', 'Producer', 'Writer', 'Actor', 'Actress'],\n",
       "      dtype='object')"
      ]
     },
     "execution_count": 4,
     "metadata": {},
     "output_type": "execute_result"
    }
   ],
   "source": [
    "t.columns"
   ]
  },
  {
   "cell_type": "code",
   "execution_count": 5,
   "id": "313b0e88",
   "metadata": {},
   "outputs": [],
   "source": [
    "t.drop('Unnamed: 0',axis=1,inplace=True)"
   ]
  },
  {
   "cell_type": "code",
   "execution_count": 6,
   "id": "6e6d5355",
   "metadata": {},
   "outputs": [
    {
     "data": {
      "text/plain": [
       "(4803, 18)"
      ]
     },
     "execution_count": 6,
     "metadata": {},
     "output_type": "execute_result"
    }
   ],
   "source": [
    "t.shape"
   ]
  },
  {
   "cell_type": "code",
   "execution_count": 7,
   "id": "689c5677",
   "metadata": {},
   "outputs": [
    {
     "data": {
      "text/plain": [
       "Index(['title_x', 'budget', 'genres', 'original_language', 'popularity',\n",
       "       'production_companies', 'production_countries', 'release_date',\n",
       "       'revenue', 'runtime', 'status', 'vote_average', 'vote_count',\n",
       "       'Director', 'Producer', 'Writer', 'Actor', 'Actress'],\n",
       "      dtype='object')"
      ]
     },
     "execution_count": 7,
     "metadata": {},
     "output_type": "execute_result"
    }
   ],
   "source": [
    "t.columns"
   ]
  },
  {
   "cell_type": "code",
   "execution_count": 8,
   "id": "79a487a4",
   "metadata": {},
   "outputs": [
    {
     "data": {
      "text/html": [
       "<div>\n",
       "<style scoped>\n",
       "    .dataframe tbody tr th:only-of-type {\n",
       "        vertical-align: middle;\n",
       "    }\n",
       "\n",
       "    .dataframe tbody tr th {\n",
       "        vertical-align: top;\n",
       "    }\n",
       "\n",
       "    .dataframe thead th {\n",
       "        text-align: right;\n",
       "    }\n",
       "</style>\n",
       "<table border=\"1\" class=\"dataframe\">\n",
       "  <thead>\n",
       "    <tr style=\"text-align: right;\">\n",
       "      <th></th>\n",
       "      <th>title_x</th>\n",
       "      <th>budget</th>\n",
       "      <th>genres</th>\n",
       "      <th>original_language</th>\n",
       "      <th>popularity</th>\n",
       "      <th>production_companies</th>\n",
       "      <th>production_countries</th>\n",
       "      <th>release_date</th>\n",
       "      <th>revenue</th>\n",
       "      <th>runtime</th>\n",
       "      <th>status</th>\n",
       "      <th>vote_average</th>\n",
       "      <th>vote_count</th>\n",
       "      <th>Director</th>\n",
       "      <th>Producer</th>\n",
       "      <th>Writer</th>\n",
       "      <th>Actor</th>\n",
       "      <th>Actress</th>\n",
       "    </tr>\n",
       "  </thead>\n",
       "  <tbody>\n",
       "    <tr>\n",
       "      <th>0</th>\n",
       "      <td>Avatar</td>\n",
       "      <td>237000000</td>\n",
       "      <td>['Action', 'Adventure', 'Fantasy', 'Science Fi...</td>\n",
       "      <td>en</td>\n",
       "      <td>150.437577</td>\n",
       "      <td>Ingenious Film Partners,Twentieth Century Fox ...</td>\n",
       "      <td>United States of America,United Kingdom</td>\n",
       "      <td>10-12-2009</td>\n",
       "      <td>2787965087</td>\n",
       "      <td>162.0</td>\n",
       "      <td>Released</td>\n",
       "      <td>7.2</td>\n",
       "      <td>11800</td>\n",
       "      <td>James Cameron</td>\n",
       "      <td>James Cameron,Jon Landau</td>\n",
       "      <td>James Cameron</td>\n",
       "      <td>Sam Worthington</td>\n",
       "      <td>Zoe Saldana</td>\n",
       "    </tr>\n",
       "    <tr>\n",
       "      <th>1</th>\n",
       "      <td>Pirates of the Caribbean: At World's End</td>\n",
       "      <td>300000000</td>\n",
       "      <td>['Adventure', 'Fantasy', 'Action']</td>\n",
       "      <td>en</td>\n",
       "      <td>139.082615</td>\n",
       "      <td>Walt Disney Pictures,Jerry Bruckheimer Films,S...</td>\n",
       "      <td>United States of America</td>\n",
       "      <td>19-05-2007</td>\n",
       "      <td>961000000</td>\n",
       "      <td>169.0</td>\n",
       "      <td>Released</td>\n",
       "      <td>6.9</td>\n",
       "      <td>4500</td>\n",
       "      <td>Gore Verbinski</td>\n",
       "      <td>Jerry Bruckheimer,Eric McLeod,Chad Oman,Peter ...</td>\n",
       "      <td>No Data</td>\n",
       "      <td>Johnny Depp</td>\n",
       "      <td>Keira Knightley</td>\n",
       "    </tr>\n",
       "    <tr>\n",
       "      <th>2</th>\n",
       "      <td>Spectre</td>\n",
       "      <td>245000000</td>\n",
       "      <td>['Action', 'Adventure', 'Crime']</td>\n",
       "      <td>en</td>\n",
       "      <td>107.376788</td>\n",
       "      <td>Columbia Pictures,Danjaq,B24</td>\n",
       "      <td>United Kingdom,United States of America</td>\n",
       "      <td>26-10-2015</td>\n",
       "      <td>880674609</td>\n",
       "      <td>148.0</td>\n",
       "      <td>Released</td>\n",
       "      <td>6.3</td>\n",
       "      <td>4466</td>\n",
       "      <td>Sam Mendes</td>\n",
       "      <td>Barbara Broccoli,Michael G. Wilson</td>\n",
       "      <td>No Data</td>\n",
       "      <td>Daniel Craig</td>\n",
       "      <td>Léa Seydoux</td>\n",
       "    </tr>\n",
       "  </tbody>\n",
       "</table>\n",
       "</div>"
      ],
      "text/plain": [
       "                                    title_x     budget  \\\n",
       "0                                    Avatar  237000000   \n",
       "1  Pirates of the Caribbean: At World's End  300000000   \n",
       "2                                   Spectre  245000000   \n",
       "\n",
       "                                              genres original_language  \\\n",
       "0  ['Action', 'Adventure', 'Fantasy', 'Science Fi...                en   \n",
       "1                 ['Adventure', 'Fantasy', 'Action']                en   \n",
       "2                   ['Action', 'Adventure', 'Crime']                en   \n",
       "\n",
       "   popularity                               production_companies  \\\n",
       "0  150.437577  Ingenious Film Partners,Twentieth Century Fox ...   \n",
       "1  139.082615  Walt Disney Pictures,Jerry Bruckheimer Films,S...   \n",
       "2  107.376788                       Columbia Pictures,Danjaq,B24   \n",
       "\n",
       "                      production_countries release_date     revenue  runtime  \\\n",
       "0  United States of America,United Kingdom   10-12-2009  2787965087    162.0   \n",
       "1                 United States of America   19-05-2007   961000000    169.0   \n",
       "2  United Kingdom,United States of America   26-10-2015   880674609    148.0   \n",
       "\n",
       "     status  vote_average  vote_count        Director  \\\n",
       "0  Released           7.2       11800   James Cameron   \n",
       "1  Released           6.9        4500  Gore Verbinski   \n",
       "2  Released           6.3        4466      Sam Mendes   \n",
       "\n",
       "                                            Producer         Writer  \\\n",
       "0                           James Cameron,Jon Landau  James Cameron   \n",
       "1  Jerry Bruckheimer,Eric McLeod,Chad Oman,Peter ...        No Data   \n",
       "2                 Barbara Broccoli,Michael G. Wilson        No Data   \n",
       "\n",
       "             Actor          Actress  \n",
       "0  Sam Worthington      Zoe Saldana  \n",
       "1      Johnny Depp  Keira Knightley  \n",
       "2     Daniel Craig      Léa Seydoux  "
      ]
     },
     "execution_count": 8,
     "metadata": {},
     "output_type": "execute_result"
    }
   ],
   "source": [
    "t.head(3)"
   ]
  },
  {
   "cell_type": "code",
   "execution_count": 9,
   "id": "1311b391",
   "metadata": {},
   "outputs": [
    {
     "data": {
      "text/plain": [
       "0       ['Action', 'Adventure', 'Fantasy', 'Science Fi...\n",
       "1                      ['Adventure', 'Fantasy', 'Action']\n",
       "2                        ['Action', 'Adventure', 'Crime']\n",
       "3                ['Action', 'Crime', 'Drama', 'Thriller']\n",
       "4              ['Action', 'Adventure', 'Science Fiction']\n",
       "                              ...                        \n",
       "4798                      ['Action', 'Crime', 'Thriller']\n",
       "4799                                ['Comedy', 'Romance']\n",
       "4800           ['Comedy', 'Drama', 'Romance', 'TV Movie']\n",
       "4801                                                   []\n",
       "4802                                      ['Documentary']\n",
       "Name: genres, Length: 4803, dtype: object"
      ]
     },
     "execution_count": 9,
     "metadata": {},
     "output_type": "execute_result"
    }
   ],
   "source": [
    "t['genres']"
   ]
  },
  {
   "cell_type": "code",
   "execution_count": 10,
   "id": "d5d4551a",
   "metadata": {},
   "outputs": [
    {
     "data": {
      "text/plain": [
       "str"
      ]
     },
     "execution_count": 10,
     "metadata": {},
     "output_type": "execute_result"
    }
   ],
   "source": [
    "type(t['genres'][0])"
   ]
  },
  {
   "cell_type": "code",
   "execution_count": 12,
   "id": "e4538590",
   "metadata": {},
   "outputs": [
    {
     "data": {
      "text/plain": [
       "\"['Action', 'Adventure', 'Fantasy', 'Science Fiction']\""
      ]
     },
     "execution_count": 12,
     "metadata": {},
     "output_type": "execute_result"
    }
   ],
   "source": [
    "t['genres'][0]"
   ]
  },
  {
   "cell_type": "code",
   "execution_count": 11,
   "id": "8b0e4f06",
   "metadata": {},
   "outputs": [
    {
     "data": {
      "text/html": [
       "<div>\n",
       "<style scoped>\n",
       "    .dataframe tbody tr th:only-of-type {\n",
       "        vertical-align: middle;\n",
       "    }\n",
       "\n",
       "    .dataframe tbody tr th {\n",
       "        vertical-align: top;\n",
       "    }\n",
       "\n",
       "    .dataframe thead th {\n",
       "        text-align: right;\n",
       "    }\n",
       "</style>\n",
       "<table border=\"1\" class=\"dataframe\">\n",
       "  <thead>\n",
       "    <tr style=\"text-align: right;\">\n",
       "      <th></th>\n",
       "      <th>title_x</th>\n",
       "      <th>budget</th>\n",
       "      <th>genres</th>\n",
       "      <th>original_language</th>\n",
       "      <th>popularity</th>\n",
       "      <th>production_companies</th>\n",
       "      <th>production_countries</th>\n",
       "      <th>release_date</th>\n",
       "      <th>revenue</th>\n",
       "      <th>runtime</th>\n",
       "      <th>status</th>\n",
       "      <th>vote_average</th>\n",
       "      <th>vote_count</th>\n",
       "      <th>Director</th>\n",
       "      <th>Producer</th>\n",
       "      <th>Writer</th>\n",
       "      <th>Actor</th>\n",
       "      <th>Actress</th>\n",
       "    </tr>\n",
       "  </thead>\n",
       "  <tbody>\n",
       "    <tr>\n",
       "      <th>0</th>\n",
       "      <td>Avatar</td>\n",
       "      <td>237000000</td>\n",
       "      <td>['Action', 'Adventure', 'Fantasy', 'Science Fi...</td>\n",
       "      <td>en</td>\n",
       "      <td>150.437577</td>\n",
       "      <td>Ingenious Film Partners,Twentieth Century Fox ...</td>\n",
       "      <td>United States of America,United Kingdom</td>\n",
       "      <td>10-12-2009</td>\n",
       "      <td>2787965087</td>\n",
       "      <td>162.0</td>\n",
       "      <td>Released</td>\n",
       "      <td>7.2</td>\n",
       "      <td>11800</td>\n",
       "      <td>James Cameron</td>\n",
       "      <td>James Cameron,Jon Landau</td>\n",
       "      <td>James Cameron</td>\n",
       "      <td>Sam Worthington</td>\n",
       "      <td>Zoe Saldana</td>\n",
       "    </tr>\n",
       "    <tr>\n",
       "      <th>1</th>\n",
       "      <td>Pirates of the Caribbean: At World's End</td>\n",
       "      <td>300000000</td>\n",
       "      <td>['Adventure', 'Fantasy', 'Action']</td>\n",
       "      <td>en</td>\n",
       "      <td>139.082615</td>\n",
       "      <td>Walt Disney Pictures,Jerry Bruckheimer Films,S...</td>\n",
       "      <td>United States of America</td>\n",
       "      <td>19-05-2007</td>\n",
       "      <td>961000000</td>\n",
       "      <td>169.0</td>\n",
       "      <td>Released</td>\n",
       "      <td>6.9</td>\n",
       "      <td>4500</td>\n",
       "      <td>Gore Verbinski</td>\n",
       "      <td>Jerry Bruckheimer,Eric McLeod,Chad Oman,Peter ...</td>\n",
       "      <td>No Data</td>\n",
       "      <td>Johnny Depp</td>\n",
       "      <td>Keira Knightley</td>\n",
       "    </tr>\n",
       "    <tr>\n",
       "      <th>2</th>\n",
       "      <td>Spectre</td>\n",
       "      <td>245000000</td>\n",
       "      <td>['Action', 'Adventure', 'Crime']</td>\n",
       "      <td>en</td>\n",
       "      <td>107.376788</td>\n",
       "      <td>Columbia Pictures,Danjaq,B24</td>\n",
       "      <td>United Kingdom,United States of America</td>\n",
       "      <td>26-10-2015</td>\n",
       "      <td>880674609</td>\n",
       "      <td>148.0</td>\n",
       "      <td>Released</td>\n",
       "      <td>6.3</td>\n",
       "      <td>4466</td>\n",
       "      <td>Sam Mendes</td>\n",
       "      <td>Barbara Broccoli,Michael G. Wilson</td>\n",
       "      <td>No Data</td>\n",
       "      <td>Daniel Craig</td>\n",
       "      <td>Léa Seydoux</td>\n",
       "    </tr>\n",
       "    <tr>\n",
       "      <th>3</th>\n",
       "      <td>The Dark Knight Rises</td>\n",
       "      <td>250000000</td>\n",
       "      <td>['Action', 'Crime', 'Drama', 'Thriller']</td>\n",
       "      <td>en</td>\n",
       "      <td>112.312950</td>\n",
       "      <td>Legendary Pictures,Warner Bros.,DC Entertainme...</td>\n",
       "      <td>United States of America</td>\n",
       "      <td>16-07-2012</td>\n",
       "      <td>1084939099</td>\n",
       "      <td>165.0</td>\n",
       "      <td>Released</td>\n",
       "      <td>7.6</td>\n",
       "      <td>9106</td>\n",
       "      <td>Christopher Nolan</td>\n",
       "      <td>Charles Roven,Christopher Nolan,Emma Thomas</td>\n",
       "      <td>No Data</td>\n",
       "      <td>Christian Bale</td>\n",
       "      <td>Anne Hathaway</td>\n",
       "    </tr>\n",
       "    <tr>\n",
       "      <th>4</th>\n",
       "      <td>John Carter</td>\n",
       "      <td>260000000</td>\n",
       "      <td>['Action', 'Adventure', 'Science Fiction']</td>\n",
       "      <td>en</td>\n",
       "      <td>43.926995</td>\n",
       "      <td>Walt Disney Pictures</td>\n",
       "      <td>United States of America</td>\n",
       "      <td>07-03-2012</td>\n",
       "      <td>284139100</td>\n",
       "      <td>132.0</td>\n",
       "      <td>Released</td>\n",
       "      <td>6.1</td>\n",
       "      <td>2124</td>\n",
       "      <td>Andrew Stanton</td>\n",
       "      <td>Colin Wilson,Jim Morris,Lindsey Collins</td>\n",
       "      <td>No Data</td>\n",
       "      <td>Taylor Kitsch</td>\n",
       "      <td>Lynn Collins</td>\n",
       "    </tr>\n",
       "    <tr>\n",
       "      <th>...</th>\n",
       "      <td>...</td>\n",
       "      <td>...</td>\n",
       "      <td>...</td>\n",
       "      <td>...</td>\n",
       "      <td>...</td>\n",
       "      <td>...</td>\n",
       "      <td>...</td>\n",
       "      <td>...</td>\n",
       "      <td>...</td>\n",
       "      <td>...</td>\n",
       "      <td>...</td>\n",
       "      <td>...</td>\n",
       "      <td>...</td>\n",
       "      <td>...</td>\n",
       "      <td>...</td>\n",
       "      <td>...</td>\n",
       "      <td>...</td>\n",
       "      <td>...</td>\n",
       "    </tr>\n",
       "    <tr>\n",
       "      <th>4798</th>\n",
       "      <td>El Mariachi</td>\n",
       "      <td>220000</td>\n",
       "      <td>['Action', 'Crime', 'Thriller']</td>\n",
       "      <td>es</td>\n",
       "      <td>14.269792</td>\n",
       "      <td>Columbia Pictures</td>\n",
       "      <td>Mexico,United States of America</td>\n",
       "      <td>04-09-1992</td>\n",
       "      <td>2040920</td>\n",
       "      <td>81.0</td>\n",
       "      <td>Released</td>\n",
       "      <td>6.6</td>\n",
       "      <td>238</td>\n",
       "      <td>Robert Rodriguez</td>\n",
       "      <td>Robert Rodriguez,Carlos Gallardo</td>\n",
       "      <td>No Data</td>\n",
       "      <td>Carlos Gallardo</td>\n",
       "      <td>no data</td>\n",
       "    </tr>\n",
       "    <tr>\n",
       "      <th>4799</th>\n",
       "      <td>Newlyweds</td>\n",
       "      <td>9000</td>\n",
       "      <td>['Comedy', 'Romance']</td>\n",
       "      <td>en</td>\n",
       "      <td>0.642552</td>\n",
       "      <td>NaN</td>\n",
       "      <td>NaN</td>\n",
       "      <td>26-12-2011</td>\n",
       "      <td>0</td>\n",
       "      <td>85.0</td>\n",
       "      <td>Released</td>\n",
       "      <td>5.9</td>\n",
       "      <td>5</td>\n",
       "      <td>Edward Burns</td>\n",
       "      <td>Edward Burns,William Rexer,Aaron Lubin</td>\n",
       "      <td>Edward Burns</td>\n",
       "      <td>Edward Burns</td>\n",
       "      <td>Kerry Bishé</td>\n",
       "    </tr>\n",
       "    <tr>\n",
       "      <th>4800</th>\n",
       "      <td>Signed, Sealed, Delivered</td>\n",
       "      <td>0</td>\n",
       "      <td>['Comedy', 'Drama', 'Romance', 'TV Movie']</td>\n",
       "      <td>en</td>\n",
       "      <td>1.444476</td>\n",
       "      <td>Front Street Pictures,Muse Entertainment Enter...</td>\n",
       "      <td>United States of America</td>\n",
       "      <td>13-10-2013</td>\n",
       "      <td>0</td>\n",
       "      <td>120.0</td>\n",
       "      <td>Released</td>\n",
       "      <td>7.0</td>\n",
       "      <td>6</td>\n",
       "      <td>Scott Smith</td>\n",
       "      <td>Harvey Kahn</td>\n",
       "      <td>Martha Williamson</td>\n",
       "      <td>Eric Mabius</td>\n",
       "      <td>Kristin Booth</td>\n",
       "    </tr>\n",
       "    <tr>\n",
       "      <th>4801</th>\n",
       "      <td>Shanghai Calling</td>\n",
       "      <td>0</td>\n",
       "      <td>[]</td>\n",
       "      <td>en</td>\n",
       "      <td>0.857008</td>\n",
       "      <td>NaN</td>\n",
       "      <td>United States of America,China</td>\n",
       "      <td>03-05-2012</td>\n",
       "      <td>0</td>\n",
       "      <td>98.0</td>\n",
       "      <td>Released</td>\n",
       "      <td>5.7</td>\n",
       "      <td>7</td>\n",
       "      <td>Daniel Hsia</td>\n",
       "      <td>No Data</td>\n",
       "      <td>Daniel Hsia</td>\n",
       "      <td>Daniel Henney</td>\n",
       "      <td>Eliza Coupe</td>\n",
       "    </tr>\n",
       "    <tr>\n",
       "      <th>4802</th>\n",
       "      <td>My Date with Drew</td>\n",
       "      <td>0</td>\n",
       "      <td>['Documentary']</td>\n",
       "      <td>en</td>\n",
       "      <td>1.929883</td>\n",
       "      <td>rusty bear entertainment,lucky crow films</td>\n",
       "      <td>United States of America</td>\n",
       "      <td>05-08-2005</td>\n",
       "      <td>0</td>\n",
       "      <td>90.0</td>\n",
       "      <td>Released</td>\n",
       "      <td>6.3</td>\n",
       "      <td>16</td>\n",
       "      <td>Brian Herzlinger,Jon Gunn,Brett Winn</td>\n",
       "      <td>No Data</td>\n",
       "      <td>No Data</td>\n",
       "      <td>Brian Herzlinger</td>\n",
       "      <td>Drew Barrymore</td>\n",
       "    </tr>\n",
       "  </tbody>\n",
       "</table>\n",
       "<p>4803 rows × 18 columns</p>\n",
       "</div>"
      ],
      "text/plain": [
       "                                       title_x     budget  \\\n",
       "0                                       Avatar  237000000   \n",
       "1     Pirates of the Caribbean: At World's End  300000000   \n",
       "2                                      Spectre  245000000   \n",
       "3                        The Dark Knight Rises  250000000   \n",
       "4                                  John Carter  260000000   \n",
       "...                                        ...        ...   \n",
       "4798                               El Mariachi     220000   \n",
       "4799                                 Newlyweds       9000   \n",
       "4800                 Signed, Sealed, Delivered          0   \n",
       "4801                          Shanghai Calling          0   \n",
       "4802                         My Date with Drew          0   \n",
       "\n",
       "                                                 genres original_language  \\\n",
       "0     ['Action', 'Adventure', 'Fantasy', 'Science Fi...                en   \n",
       "1                    ['Adventure', 'Fantasy', 'Action']                en   \n",
       "2                      ['Action', 'Adventure', 'Crime']                en   \n",
       "3              ['Action', 'Crime', 'Drama', 'Thriller']                en   \n",
       "4            ['Action', 'Adventure', 'Science Fiction']                en   \n",
       "...                                                 ...               ...   \n",
       "4798                    ['Action', 'Crime', 'Thriller']                es   \n",
       "4799                              ['Comedy', 'Romance']                en   \n",
       "4800         ['Comedy', 'Drama', 'Romance', 'TV Movie']                en   \n",
       "4801                                                 []                en   \n",
       "4802                                    ['Documentary']                en   \n",
       "\n",
       "      popularity                               production_companies  \\\n",
       "0     150.437577  Ingenious Film Partners,Twentieth Century Fox ...   \n",
       "1     139.082615  Walt Disney Pictures,Jerry Bruckheimer Films,S...   \n",
       "2     107.376788                       Columbia Pictures,Danjaq,B24   \n",
       "3     112.312950  Legendary Pictures,Warner Bros.,DC Entertainme...   \n",
       "4      43.926995                               Walt Disney Pictures   \n",
       "...          ...                                                ...   \n",
       "4798   14.269792                                  Columbia Pictures   \n",
       "4799    0.642552                                                NaN   \n",
       "4800    1.444476  Front Street Pictures,Muse Entertainment Enter...   \n",
       "4801    0.857008                                                NaN   \n",
       "4802    1.929883          rusty bear entertainment,lucky crow films   \n",
       "\n",
       "                         production_countries release_date     revenue  \\\n",
       "0     United States of America,United Kingdom   10-12-2009  2787965087   \n",
       "1                    United States of America   19-05-2007   961000000   \n",
       "2     United Kingdom,United States of America   26-10-2015   880674609   \n",
       "3                    United States of America   16-07-2012  1084939099   \n",
       "4                    United States of America   07-03-2012   284139100   \n",
       "...                                       ...          ...         ...   \n",
       "4798          Mexico,United States of America   04-09-1992     2040920   \n",
       "4799                                      NaN   26-12-2011           0   \n",
       "4800                 United States of America   13-10-2013           0   \n",
       "4801           United States of America,China   03-05-2012           0   \n",
       "4802                 United States of America   05-08-2005           0   \n",
       "\n",
       "      runtime    status  vote_average  vote_count  \\\n",
       "0       162.0  Released           7.2       11800   \n",
       "1       169.0  Released           6.9        4500   \n",
       "2       148.0  Released           6.3        4466   \n",
       "3       165.0  Released           7.6        9106   \n",
       "4       132.0  Released           6.1        2124   \n",
       "...       ...       ...           ...         ...   \n",
       "4798     81.0  Released           6.6         238   \n",
       "4799     85.0  Released           5.9           5   \n",
       "4800    120.0  Released           7.0           6   \n",
       "4801     98.0  Released           5.7           7   \n",
       "4802     90.0  Released           6.3          16   \n",
       "\n",
       "                                  Director  \\\n",
       "0                            James Cameron   \n",
       "1                           Gore Verbinski   \n",
       "2                               Sam Mendes   \n",
       "3                        Christopher Nolan   \n",
       "4                           Andrew Stanton   \n",
       "...                                    ...   \n",
       "4798                      Robert Rodriguez   \n",
       "4799                          Edward Burns   \n",
       "4800                           Scott Smith   \n",
       "4801                           Daniel Hsia   \n",
       "4802  Brian Herzlinger,Jon Gunn,Brett Winn   \n",
       "\n",
       "                                               Producer             Writer  \\\n",
       "0                              James Cameron,Jon Landau      James Cameron   \n",
       "1     Jerry Bruckheimer,Eric McLeod,Chad Oman,Peter ...            No Data   \n",
       "2                    Barbara Broccoli,Michael G. Wilson            No Data   \n",
       "3           Charles Roven,Christopher Nolan,Emma Thomas            No Data   \n",
       "4               Colin Wilson,Jim Morris,Lindsey Collins            No Data   \n",
       "...                                                 ...                ...   \n",
       "4798                   Robert Rodriguez,Carlos Gallardo            No Data   \n",
       "4799             Edward Burns,William Rexer,Aaron Lubin       Edward Burns   \n",
       "4800                                        Harvey Kahn  Martha Williamson   \n",
       "4801                                            No Data        Daniel Hsia   \n",
       "4802                                            No Data            No Data   \n",
       "\n",
       "                 Actor          Actress  \n",
       "0      Sam Worthington      Zoe Saldana  \n",
       "1          Johnny Depp  Keira Knightley  \n",
       "2         Daniel Craig      Léa Seydoux  \n",
       "3       Christian Bale    Anne Hathaway  \n",
       "4        Taylor Kitsch     Lynn Collins  \n",
       "...                ...              ...  \n",
       "4798   Carlos Gallardo          no data  \n",
       "4799      Edward Burns      Kerry Bishé  \n",
       "4800       Eric Mabius    Kristin Booth  \n",
       "4801     Daniel Henney      Eliza Coupe  \n",
       "4802  Brian Herzlinger   Drew Barrymore  \n",
       "\n",
       "[4803 rows x 18 columns]"
      ]
     },
     "execution_count": 11,
     "metadata": {},
     "output_type": "execute_result"
    }
   ],
   "source": [
    "t.explode('genres')"
   ]
  },
  {
   "cell_type": "code",
   "execution_count": 35,
   "id": "1e0b3f05",
   "metadata": {},
   "outputs": [
    {
     "name": "stderr",
     "output_type": "stream",
     "text": [
      "C:\\Users\\User\\AppData\\Local\\Temp\\ipykernel_14412\\845283881.py:3: SettingWithCopyWarning: \n",
      "A value is trying to be set on a copy of a slice from a DataFrame\n",
      "\n",
      "See the caveats in the documentation: https://pandas.pydata.org/pandas-docs/stable/user_guide/indexing.html#returning-a-view-versus-a-copy\n",
      "  t['genres'][0] = a.strip('][').split(', ')\n"
     ]
    },
    {
     "ename": "AttributeError",
     "evalue": "'list' object has no attribute 'strip'",
     "output_type": "error",
     "traceback": [
      "\u001b[1;31m---------------------------------------------------------------------------\u001b[0m",
      "\u001b[1;31mAttributeError\u001b[0m                            Traceback (most recent call last)",
      "Cell \u001b[1;32mIn[35], line 3\u001b[0m\n\u001b[0;32m      1\u001b[0m \u001b[38;5;28;01mfor\u001b[39;00m i \u001b[38;5;129;01min\u001b[39;00m \u001b[38;5;28mrange\u001b[39m(\u001b[38;5;241m4803\u001b[39m):\n\u001b[0;32m      2\u001b[0m     a \u001b[38;5;241m=\u001b[39m t[\u001b[38;5;124m'\u001b[39m\u001b[38;5;124mgenres\u001b[39m\u001b[38;5;124m'\u001b[39m][\u001b[38;5;241m0\u001b[39m]\n\u001b[1;32m----> 3\u001b[0m     t[\u001b[38;5;124m'\u001b[39m\u001b[38;5;124mgenres\u001b[39m\u001b[38;5;124m'\u001b[39m][\u001b[38;5;241m0\u001b[39m] \u001b[38;5;241m=\u001b[39m a\u001b[38;5;241m.\u001b[39mstrip(\u001b[38;5;124m'\u001b[39m\u001b[38;5;124m][\u001b[39m\u001b[38;5;124m'\u001b[39m)\u001b[38;5;241m.\u001b[39msplit(\u001b[38;5;124m'\u001b[39m\u001b[38;5;124m, \u001b[39m\u001b[38;5;124m'\u001b[39m)\n",
      "\u001b[1;31mAttributeError\u001b[0m: 'list' object has no attribute 'strip'"
     ]
    }
   ],
   "source": [
    "for i in range(4803):\n",
    "    a = t['genres'][0]\n",
    "    t['genres'][0] = a.strip('][').split(', ')"
   ]
  },
  {
   "cell_type": "code",
   "execution_count": 26,
   "id": "15727733",
   "metadata": {},
   "outputs": [
    {
     "data": {
      "text/plain": [
       "\"['Action', 'Adventure', 'Fantasy', 'Science Fiction']\""
      ]
     },
     "execution_count": 26,
     "metadata": {},
     "output_type": "execute_result"
    }
   ],
   "source": [
    "t['genres'][0]"
   ]
  },
  {
   "cell_type": "markdown",
   "id": "5a962452",
   "metadata": {},
   "source": [
    "import ast"
   ]
  },
  {
   "cell_type": "markdown",
   "id": "3c90427f",
   "metadata": {},
   "source": [
    "ast.literal_eval(t['genres'][0])"
   ]
  },
  {
   "cell_type": "code",
   "execution_count": 30,
   "id": "b3897cd8",
   "metadata": {},
   "outputs": [],
   "source": [
    "a = t['genres'][0].strip('][')"
   ]
  },
  {
   "cell_type": "code",
   "execution_count": 34,
   "id": "43653532",
   "metadata": {},
   "outputs": [
    {
     "data": {
      "text/plain": [
       "\"'Action', 'Adventure', 'Fantasy', 'Science Fiction'\""
      ]
     },
     "execution_count": 34,
     "metadata": {},
     "output_type": "execute_result"
    }
   ],
   "source": [
    "a"
   ]
  },
  {
   "cell_type": "code",
   "execution_count": 31,
   "id": "c4299876",
   "metadata": {},
   "outputs": [
    {
     "data": {
      "text/plain": [
       "\"'Action', 'Adventure', 'Fantasy', 'Science Fiction'\""
      ]
     },
     "execution_count": 31,
     "metadata": {},
     "output_type": "execute_result"
    }
   ],
   "source": [
    "a.strip('\"')"
   ]
  },
  {
   "cell_type": "code",
   "execution_count": 29,
   "id": "5e5e7e1d",
   "metadata": {},
   "outputs": [
    {
     "data": {
      "text/plain": [
       "\"'Action', 'Adventure', 'Fantasy', 'Science Fiction'\""
      ]
     },
     "execution_count": 29,
     "metadata": {},
     "output_type": "execute_result"
    }
   ],
   "source": [
    "t['genres'][0].strip('][').replace('\"', '')"
   ]
  },
  {
   "cell_type": "code",
   "execution_count": 17,
   "id": "fe8eba96",
   "metadata": {},
   "outputs": [
    {
     "data": {
      "text/plain": [
       "str"
      ]
     },
     "execution_count": 17,
     "metadata": {},
     "output_type": "execute_result"
    }
   ],
   "source": [
    "type(t['genres'][0].strip(']['))"
   ]
  },
  {
   "cell_type": "code",
   "execution_count": 23,
   "id": "89db0b86",
   "metadata": {},
   "outputs": [
    {
     "data": {
      "text/plain": [
       "\"'Action', 'Adventure', 'Fantasy', 'Science Fiction'\""
      ]
     },
     "execution_count": 23,
     "metadata": {},
     "output_type": "execute_result"
    }
   ],
   "source": [
    "(t['genres'][0].strip('][')).strip('\"')"
   ]
  }
 ],
 "metadata": {
  "kernelspec": {
   "display_name": "Python 3 (ipykernel)",
   "language": "python",
   "name": "python3"
  },
  "language_info": {
   "codemirror_mode": {
    "name": "ipython",
    "version": 3
   },
   "file_extension": ".py",
   "mimetype": "text/x-python",
   "name": "python",
   "nbconvert_exporter": "python",
   "pygments_lexer": "ipython3",
   "version": "3.11.4"
  }
 },
 "nbformat": 4,
 "nbformat_minor": 5
}
