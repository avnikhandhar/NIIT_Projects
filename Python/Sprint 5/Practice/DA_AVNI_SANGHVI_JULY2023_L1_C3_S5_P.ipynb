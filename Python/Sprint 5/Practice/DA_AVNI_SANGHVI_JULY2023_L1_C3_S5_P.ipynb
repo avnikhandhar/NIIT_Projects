{
 "cells": [
  {
   "cell_type": "markdown",
   "id": "6f8f424b",
   "metadata": {},
   "source": [
    "**TASK 1: Check if word is palindrome or not**"
   ]
  },
  {
   "cell_type": "code",
   "execution_count": 21,
   "id": "8715976f",
   "metadata": {},
   "outputs": [
    {
     "name": "stdout",
     "output_type": "stream",
     "text": [
      "Enter the word to be checked Madam\n",
      "A palindrome\n"
     ]
    }
   ],
   "source": [
    "def ispalin(s):   #user defined function with one parameter with one return value\n",
    "    s = s.lower()\n",
    "    if s == s[::-1]:\n",
    "        return \"A palindrome\"\n",
    "    else:\n",
    "        return \"Not a palindrome\"\n",
    "\n",
    "str = input(\"Enter the word to be checked \") #taking input from user\n",
    "r = ispalin(str)  #function calling\n",
    "print(r)"
   ]
  },
  {
   "cell_type": "markdown",
   "id": "199bfdd2",
   "metadata": {},
   "source": [
    "**TASK 2: Sorting Words**"
   ]
  },
  {
   "cell_type": "code",
   "execution_count": 25,
   "id": "bc021f45",
   "metadata": {},
   "outputs": [
    {
     "name": "stdout",
     "output_type": "stream",
     "text": [
      "Enter the first item Zebra\n",
      "Enter the second item Apple\n",
      "Enter the third item Sun\n",
      "Sorted list is ['Apple', 'Sun', 'Zebra']\n"
     ]
    }
   ],
   "source": [
    "def sorting(a,b,c): #user defined function with three parameters and one return value\n",
    "    l = [a,b,c]\n",
    "    l.sort()\n",
    "    return l\n",
    "\n",
    "i1 = input(\"Enter the first item \")\n",
    "i2 = input(\"Enter the second item \")\n",
    "i3 = input(\"Enter the third item \")\n",
    "\n",
    "res = sorting(i1,i2,i3) #function calling\n",
    "print(\"Sorted list is\",res)"
   ]
  },
  {
   "cell_type": "markdown",
   "id": "90c979c8",
   "metadata": {},
   "source": [
    "**TASK 3: Converting Characters to a String**"
   ]
  },
  {
   "cell_type": "code",
   "execution_count": 28,
   "id": "4631e1a9",
   "metadata": {},
   "outputs": [
    {
     "name": "stdout",
     "output_type": "stream",
     "text": [
      "Enter the charcaters when prompted \n",
      "Enter the first character A\n",
      "Enter the second character l\n",
      "Enter the third character p\n",
      "Enter the fourth character h\n",
      "Enter the fifth character a\n",
      "List of characters ['A', 'l', 'p', 'h', 'a']\n",
      "After joining the elements into a string: Alpha\n"
     ]
    }
   ],
   "source": [
    "def make_str(): #user defined function with no parameters with one return value\n",
    "    a = input(\"Enter the first character \")\n",
    "    b = input(\"Enter the second character \")\n",
    "    c = input(\"Enter the third character \")\n",
    "    d = input(\"Enter the fourth character \")\n",
    "    e = input(\"Enter the fifth character \")\n",
    "    l1 = [a,b,c,d,e]\n",
    "    print(\"List of characters\",l1)\n",
    "    l1 = ''.join(l1)\n",
    "    return l1\n",
    "\n",
    "print(\"Enter the charcaters when prompted \")\n",
    "r = make_str() #function calling\n",
    "print(\"After joining the elements into a string:\",r)"
   ]
  },
  {
   "cell_type": "markdown",
   "id": "36889b8c",
   "metadata": {},
   "source": [
    "**TASK 4: Picking the largest and smallest element**"
   ]
  },
  {
   "cell_type": "code",
   "execution_count": 30,
   "id": "078c5d8c",
   "metadata": {},
   "outputs": [
    {
     "name": "stdout",
     "output_type": "stream",
     "text": [
      "Enter 10 nos. \n",
      "Enter no. 3\n",
      "Enter no. 21\n",
      "Enter no. 14\n",
      "Enter no. 78\n",
      "Enter no. 90\n",
      "Enter no. 99\n",
      "Enter no. 23\n",
      "Enter no. 17\n",
      "Enter no. 30\n",
      "Enter no. 56\n",
      "The list is [3, 21, 14, 78, 90, 99, 23, 17, 30, 56]\n",
      "Maximum value is 99\n",
      "Minimum value is 3\n"
     ]
    }
   ],
   "source": [
    "def max_min(): #user defined function with no paramerters with two return values\n",
    "    l = []\n",
    "    for i in range(1,11):\n",
    "        a = int(input(\"Enter no. \"))\n",
    "        l.append(a)\n",
    "    print(\"The list is\",l)\n",
    "    b = max(l)\n",
    "    s = min(l)\n",
    "    return b,s #two returning values\n",
    "\n",
    "print(\"Enter 10 nos. \")\n",
    "MAX,MIN = max_min() #function calling\n",
    "print(\"Maximum value is\",MAX)\n",
    "print(\"Minimum value is\",MIN)"
   ]
  },
  {
   "cell_type": "markdown",
   "id": "34f9749e",
   "metadata": {},
   "source": [
    "**TASK 5: Searching a Dictionary**"
   ]
  },
  {
   "cell_type": "code",
   "execution_count": 38,
   "id": "ef0c9e50",
   "metadata": {},
   "outputs": [
    {
     "name": "stdout",
     "output_type": "stream",
     "text": [
      "Enter the values: \n",
      "Enter first value: 45.50\n",
      "Enter second value: 35\n",
      "Enter third value: 41.30\n",
      "Enter fourth value: 29\n",
      "Enter fifth value: 49.89\n",
      "Max value: 49.89\n",
      "Min value: 29.0\n"
     ]
    }
   ],
   "source": [
    "def search_dict(): #user defined function with no parameters and two return values\n",
    "    d = {}\n",
    "    i1 = float(input(\"Enter first value: \"))\n",
    "    i2 = float(input(\"Enter second value: \"))\n",
    "    i3 = float(input(\"Enter third value: \"))\n",
    "    i4 = float(input(\"Enter fourth value: \"))\n",
    "    i5 = float(input(\"Enter fifth value: \"))\n",
    "    \n",
    "    d.update({\"Item1\":i1})\n",
    "    d.update({\"Item2\":i2})\n",
    "    d.update({\"Item3\":i3})\n",
    "    d.update({\"Item4\":i4})\n",
    "    d.update({\"Item5\":i5})\n",
    "    \n",
    "    l = list(d.values())\n",
    "    \n",
    "    great = max(l)\n",
    "    less = min(l)\n",
    "    \n",
    "    return great,less #two return values\n",
    "\n",
    "print(\"Enter the values: \")\n",
    "MAX,MIN = search_dict() #function calling\n",
    "print(\"Max value:\",MAX)\n",
    "print(\"Min value:\",MIN)"
   ]
  },
  {
   "cell_type": "markdown",
   "id": "10e8f675",
   "metadata": {},
   "source": [
    "**TASK 6: Generating a profile card**"
   ]
  },
  {
   "cell_type": "code",
   "execution_count": 39,
   "id": "50de13a6",
   "metadata": {},
   "outputs": [
    {
     "name": "stdout",
     "output_type": "stream",
     "text": [
      "Enter the name: Avni Sanghvi\n",
      "Enter the age: 25\n",
      "Enter the gender: Female\n",
      "Enter the occupation: DBA\n",
      "Name:  Avni Sanghvi\n",
      "Age:  25\n",
      "Gender:  Female\n",
      "Occupation:  DBA\n"
     ]
    }
   ],
   "source": [
    "def f1(): #user defined function\n",
    "    name = input(\"Enter the name: \")\n",
    "    age = int(input(\"Enter the age: \"))\n",
    "    gender = input(\"Enter the gender: \")\n",
    "    occup = input(\"Enter the occupation: \")\n",
    "    \n",
    "    details = [name,age,gender,occup]\n",
    "    \n",
    "    return details\n",
    "\n",
    "def f2(): #user defined function\n",
    "    d = f1() #function calling\n",
    "    print(\"Name: \",d[0])\n",
    "    print(\"Age: \",d[1])\n",
    "    print(\"Gender: \",d[2])\n",
    "    print(\"Occupation: \",d[3])\n",
    "\n",
    "f2() #function calling"
   ]
  },
  {
   "cell_type": "markdown",
   "id": "591a9ffa",
   "metadata": {},
   "source": [
    "**TASK 7: Sorting Color Frequency in Tuple**"
   ]
  },
  {
   "cell_type": "code",
   "execution_count": 13,
   "id": "c847d3f9",
   "metadata": {},
   "outputs": [
    {
     "name": "stdout",
     "output_type": "stream",
     "text": [
      "Unsorted: [('black', 4), ('green', 1), ('red', 5), ('blue', 2), ('yellow', 3)]\n",
      "Sorted: [('green', 1), ('blue', 2), ('yellow', 3), ('black', 4), ('red', 5)]\n"
     ]
    }
   ],
   "source": [
    "color = [('black',4),('green',1),('red',5),('blue',2),('yellow',3)] #given list\n",
    "\n",
    "def list_sort(): #user defined function with no parameters and 1 returning value\n",
    "    res = []\n",
    "    v = []\n",
    "    \n",
    "    for i in range(0,5):\n",
    "        a = color[i][1]\n",
    "        v.append(a)\n",
    "    \n",
    "    v.sort()\n",
    "    \n",
    "    for i in v:\n",
    "        for j in color:\n",
    "            if i in j:\n",
    "                res.append(j)\n",
    "                \n",
    "    return res #returning sorted list\n",
    "\n",
    "print(\"Unsorted:\",color)\n",
    "r = list_sort()\n",
    "print(\"Sorted:\",r)"
   ]
  },
  {
   "cell_type": "markdown",
   "id": "6063ed22",
   "metadata": {},
   "source": [
    "**TASK 8: Common Data Elements in two lists**"
   ]
  },
  {
   "cell_type": "code",
   "execution_count": 14,
   "id": "9982161e",
   "metadata": {},
   "outputs": [
    {
     "name": "stdout",
     "output_type": "stream",
     "text": [
      "Common item in both the lists:\n"
     ]
    },
    {
     "data": {
      "text/plain": [
       "['Mandy']"
      ]
     },
     "execution_count": 14,
     "metadata": {},
     "output_type": "execute_result"
    }
   ],
   "source": [
    "a = [\"Andy\",\"Mandy\",\"Sandy\"] #first given list\n",
    "b = [\"Handy\",\"Burgundy\",\"Mandy\"] #second given list\n",
    "\n",
    "print(\"Common item in both the lists:\")\n",
    "list(filter(lambda item:item in b,a)) #finding the common element"
   ]
  },
  {
   "cell_type": "markdown",
   "id": "2d556a01",
   "metadata": {},
   "source": [
    "**TASK 9: Map Function with Lambda Expression**"
   ]
  },
  {
   "cell_type": "code",
   "execution_count": 15,
   "id": "621945c5",
   "metadata": {},
   "outputs": [
    {
     "name": "stdout",
     "output_type": "stream",
     "text": [
      "[29, 30, 31]\n"
     ]
    }
   ],
   "source": [
    "c = [12,14,14] #first given list\n",
    "d = [17,16,17] #second given list\n",
    "\n",
    "sum = map(lambda x,y:x+y,c,d)\n",
    "\n",
    "print(list(sum))"
   ]
  },
  {
   "cell_type": "markdown",
   "id": "19bfe502",
   "metadata": {},
   "source": [
    "**TASK 10: Working with Dates**"
   ]
  },
  {
   "cell_type": "code",
   "execution_count": 49,
   "id": "2d31c818",
   "metadata": {},
   "outputs": [
    {
     "name": "stdout",
     "output_type": "stream",
     "text": [
      "Enter the date of birth in MM-DD-YYYY format: 12-25-1991\n",
      "Enter the date of joining in MM-DD-YYYY format: 04-25-2020\n",
      "Over 18 years of age\n"
     ]
    }
   ],
   "source": [
    "def age(dob,doj):\n",
    "    #splitting both the dates\n",
    "    DOB = dob.split(\"-\")\n",
    "    DOJ = doj.split(\"-\")\n",
    "    \n",
    "    y1 = int(DOB[2])\n",
    "    y2 = int(DOJ[2])\n",
    "    \n",
    "    a = y2 - y1\n",
    "    \n",
    "    if a>18:\n",
    "        return True\n",
    "    else:\n",
    "        return False\n",
    "\n",
    "birth = input(\"Enter the date of birth in MM-DD-YYYY format: \")\n",
    "join = input(\"Enter the date of joining in MM-DD-YYYY format: \")\n",
    "\n",
    "res = age(birth,join)\n",
    "\n",
    "if res:\n",
    "    print(\"Over 18 years of age\")\n",
    "else:\n",
    "    print(\"Less than 18 years of age\")"
   ]
  }
 ],
 "metadata": {
  "kernelspec": {
   "display_name": "Python 3 (ipykernel)",
   "language": "python",
   "name": "python3"
  },
  "language_info": {
   "codemirror_mode": {
    "name": "ipython",
    "version": 3
   },
   "file_extension": ".py",
   "mimetype": "text/x-python",
   "name": "python",
   "nbconvert_exporter": "python",
   "pygments_lexer": "ipython3",
   "version": "3.11.4"
  }
 },
 "nbformat": 4,
 "nbformat_minor": 5
}
