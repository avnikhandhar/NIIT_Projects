{
 "cells": [
  {
   "cell_type": "code",
   "execution_count": 1,
   "id": "2fefdf05",
   "metadata": {},
   "outputs": [],
   "source": [
    "#employee details\n",
    "emp_details={\"John Lee\":\"12-12-1976\",\n",
    "             \"Tim Brooks\":\"11-04-1980\",\n",
    "             \"Alice Cook\":\"07-1-1978\",\n",
    "             \"Joshua John\":\"05-02-1991\",\n",
    "             \"Alisa Matt\":\"03-04-1990\",\n",
    "             }"
   ]
  },
  {
   "cell_type": "code",
   "execution_count": 19,
   "id": "b52ca8c1",
   "metadata": {},
   "outputs": [],
   "source": [
    "b_vouchar = 100 #birthday vouchar\n",
    "c_vouchar = 150 #christmas vouchar\n",
    "v_vouchar = 100 #vateran day vouchar \n",
    "i_vouchar = 50  #independance day vouchar"
   ]
  },
  {
   "cell_type": "code",
   "execution_count": 20,
   "id": "5dd1db8b",
   "metadata": {},
   "outputs": [],
   "source": [
    "#user defined fucntion to print bday and christmas greeting\n",
    "def bday_christ(name):\n",
    "    vouchar = b_vouchar + c_vouchar\n",
    "    msg = \"Dear \"+name+\",\"+\"\\n\"+\"Wishing you a Happy Birthday! On behalf of your birthday and the upcoming Christmas Season, we offer you a gift vouchar valued \"+\"$\"+str(vouchar)+\"\\n\"+\"Birthday:\"+str(b_vouchar)+\"\\n\"+\"Christmas:\"+str(c_vouchar)\n",
    "    return msg"
   ]
  },
  {
   "cell_type": "code",
   "execution_count": 21,
   "id": "a4e34980",
   "metadata": {},
   "outputs": [],
   "source": [
    "#user defined function to print birthday and veterans greeting\n",
    "def bday_vete(name):\n",
    "    vouchar = b_vouchar + v_vouchar\n",
    "    msg = \"Dear \"+name+\",\"+\"\\n\"+\"Wishing you a Happy Birthday! On behalf of your birthday and the upcoming Veteran Day, we offer you a gift vouchar valued \"+\"$\"+str(vouchar)+\"\\n\"+\"Birthday:\"+str(b_vouchar)+\"\\n\"+\"Veteran_Day:\"+str(v_vouchar)\n",
    "    return msg"
   ]
  },
  {
   "cell_type": "code",
   "execution_count": 22,
   "id": "a576c68c",
   "metadata": {},
   "outputs": [],
   "source": [
    "#user defined function to print birthday and independance greeting\n",
    "def bday_inde(name):\n",
    "    vouchar = b_vouchar + i_vouchar\n",
    "    msg = \"Dear \"+name+\",\"+\"\\n\"+\"Wishing you a Happy Birthday! On behalf of your birthday and the upcoming Independace Day, we offer you a gift vouchar valued \"+\"$\"+str(vouchar)+\"\\n\"+\"Birthday:\"+str(b_vouchar)+\"\\n\"+\"Independance's Day:\"+str(i_vouchar)\n",
    "    return msg"
   ]
  },
  {
   "cell_type": "code",
   "execution_count": 23,
   "id": "43648b60",
   "metadata": {},
   "outputs": [],
   "source": [
    "#user defined function to print only the birthday greeting\n",
    "def bday(name):\n",
    "    vouchar = b_vouchar\n",
    "    msg = \"Dear \"+name+\",\"+\"\\n\"+\"Wishing you a Happy Birthday! On behalf of your birthday, we offer you a gift vouchar valued \"+str(vouchar)\n",
    "    return msg"
   ]
  },
  {
   "cell_type": "code",
   "execution_count": 24,
   "id": "026eb02f",
   "metadata": {},
   "outputs": [
    {
     "name": "stdout",
     "output_type": "stream",
     "text": [
      "Dear John Lee,\n",
      "Wishing you a Happy Birthday! On behalf of your birthday and the upcoming Christmas Season, we offer you a gift vouchar valued $250\n",
      "Birthday:100\n",
      "Christmas:150\n",
      "\n",
      "\n",
      "Dear Tim Brooks,\n",
      "Wishing you a Happy Birthday! On behalf of your birthday and the upcoming Veteran Day, we offer you a gift vouchar valued $200\n",
      "Birthday:100\n",
      "Veteran_Day:100\n",
      "\n",
      "\n",
      "Dear Alice Cook,\n",
      "Wishing you a Happy Birthday! On behalf of your birthday and the upcoming Independace Day, we offer you a gift vouchar valued $150\n",
      "Birthday:100\n",
      "Independance's Day:50\n",
      "\n",
      "\n",
      "Dear Joshua John,\n",
      "Wishing you a Happy Birthday! On behalf of your birthday, we offer you a gift vouchar valued 100\n",
      "\n",
      "\n",
      "Dear Alisa Matt,\n",
      "Wishing you a Happy Birthday! On behalf of your birthday, we offer you a gift vouchar valued 100\n",
      "\n",
      "\n"
     ]
    }
   ],
   "source": [
    "l = list(emp_details.items()) #converting the dictionary to list\n",
    "\n",
    "for i in l:\n",
    "    date = i[1] #filtering the date from item\n",
    "    name = i[0] #filtering the name from item\n",
    "    \n",
    "    d = date.split(\"-\") #splitting the date on the basis of '-'\n",
    "    \n",
    "    m = d[0] #extracting month from date....this is of string type\n",
    "    m = int(m) #converting the month from string to integer \n",
    "    \n",
    "    if m==12: #for birhtdays in christmas's month\n",
    "        msg = bday_christ(name)\n",
    "        print(msg)\n",
    "        print(\"\\n\")\n",
    "    elif m==11: #for birthdays in veteran day's month\n",
    "        msg = bday_vete(name)\n",
    "        print(msg)\n",
    "        print(\"\\n\")\n",
    "    elif m==7: #for birthdays in independence's day month\n",
    "        msg = bday_inde(name)\n",
    "        print(msg)\n",
    "        print(\"\\n\")\n",
    "    else: #for birthday months with no occassions in it\n",
    "        msg = bday(name)\n",
    "        print(msg)\n",
    "        print(\"\\n\")"
   ]
  },
  {
   "cell_type": "markdown",
   "id": "907fd754",
   "metadata": {},
   "source": [
    "# Optional Task"
   ]
  },
  {
   "cell_type": "code",
   "execution_count": 17,
   "id": "d4f9a728",
   "metadata": {},
   "outputs": [
    {
     "name": "stdout",
     "output_type": "stream",
     "text": [
      "Dear John Lee,\n",
      "Wishing you a Happy Birthday! On behalf of your birthday and the upcoming Christmas Season,we offer you a gift vouchar valued$250\n",
      "Birthday:$100\n",
      "Christmas:$150\n",
      "\n",
      "\n",
      "Dear Tim Brooks,\n",
      "Wishing you a Happy Birthday! On behalf of your birthday and the upcoming Veteran Day,we offer you a gift vouchar valued$200\n",
      "Birthday:$100\n",
      "Veteran Day:$100\n",
      "\n",
      "\n",
      "Dear Alice Cook,\n",
      "Wishing you a Happy Birthday! On behalf of your birthday and the upcoming Independence Day,we offer you a gift vouchar valued$150\n",
      "Birthday:$100\n",
      "Independence Day:$50\n",
      "\n",
      "\n",
      "Dear Joshua John,\n",
      "Wishing you a Happy Birthday! On behalf of your birthday, we offer you a gift vouchar valued $100\n",
      "\n",
      "\n",
      "Dear Alisa Matt,\n",
      "Wishing you a Happy Birthday! On behalf of your birthday, we offer you a gift vouchar valued $100\n",
      "\n",
      "\n"
     ]
    }
   ],
   "source": [
    "def club_vouchar(emp_details,holidays):\n",
    "    month = {}\n",
    "    for i in emp_details.items(): #stroing the employee name with their corresponding birthday month in a dictionary\n",
    "        month.update({i[0]:int(i[1].split(\"-\")[0])})\n",
    "        \n",
    "        \n",
    "    for j in month.items():\n",
    "        if j[1] == 12:\n",
    "            amount = 250\n",
    "            print(\"Dear \"+j[0]+\",\"+\"\\n\"+\"Wishing you a Happy Birthday! On behalf of your birthday and the upcoming Christmas Season,we offer you a gift vouchar valued\"+\"$\"+str(amount)+\"\\n\"+\"Birthday:$100\"+\"\\n\"+\"Christmas:$150\")\n",
    "            print(\"\\n\")\n",
    "        elif j[1] == 11:\n",
    "            amount = 200\n",
    "            print(\"Dear \"+j[0]+\",\"+\"\\n\"+\"Wishing you a Happy Birthday! On behalf of your birthday and the upcoming Veteran Day,we offer you a gift vouchar valued\"+\"$\"+str(amount)+\"\\n\"+\"Birthday:$100\"+\"\\n\"+\"Veteran Day:$100\")\n",
    "            print(\"\\n\")\n",
    "        elif j[1] == 7:\n",
    "            amount = 150\n",
    "            print(\"Dear \"+j[0]+\",\"+\"\\n\"+\"Wishing you a Happy Birthday! On behalf of your birthday and the upcoming Independence Day,we offer you a gift vouchar valued\"+\"$\"+str(amount)+\"\\n\"+\"Birthday:$100\"+\"\\n\"+\"Independence Day:$50\")\n",
    "            print(\"\\n\")\n",
    "        else:\n",
    "            amount = 100\n",
    "            print(\"Dear \"+j[0]+\",\"+\"\\n\"+\"Wishing you a Happy Birthday! On behalf of your birthday, we offer you a gift vouchar valued $\"+str(amount))\n",
    "            print(\"\\n\")\n",
    "\n",
    "club_vouchar(emp_details,holidays)"
   ]
  },
  {
   "cell_type": "code",
   "execution_count": null,
   "id": "ab3024b5",
   "metadata": {},
   "outputs": [],
   "source": []
  },
  {
   "cell_type": "code",
   "execution_count": null,
   "id": "a0d42f58",
   "metadata": {},
   "outputs": [],
   "source": []
  }
 ],
 "metadata": {
  "kernelspec": {
   "display_name": "Python 3 (ipykernel)",
   "language": "python",
   "name": "python3"
  },
  "language_info": {
   "codemirror_mode": {
    "name": "ipython",
    "version": 3
   },
   "file_extension": ".py",
   "mimetype": "text/x-python",
   "name": "python",
   "nbconvert_exporter": "python",
   "pygments_lexer": "ipython3",
   "version": "3.11.4"
  }
 },
 "nbformat": 4,
 "nbformat_minor": 5
}
