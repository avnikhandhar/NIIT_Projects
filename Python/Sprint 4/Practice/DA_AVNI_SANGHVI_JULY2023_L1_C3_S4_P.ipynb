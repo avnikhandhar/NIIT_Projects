{
 "cells": [
  {
   "cell_type": "markdown",
   "id": "4c16ee7f",
   "metadata": {},
   "source": [
    "**TASK 1: Factorial of Number using while loop**"
   ]
  },
  {
   "cell_type": "code",
   "execution_count": 1,
   "id": "4c03dedb",
   "metadata": {},
   "outputs": [
    {
     "name": "stdout",
     "output_type": "stream",
     "text": [
      "Enter the number: 5\n",
      "Factorial of given number is 120\n"
     ]
    }
   ],
   "source": [
    "n = int(input(\"Enter the number: \"))\n",
    "f = 1\n",
    "\n",
    "while(n>1):\n",
    "    f = f * n\n",
    "    n = n - 1\n",
    "\n",
    "print(\"Factorial of given number is\",f)"
   ]
  },
  {
   "cell_type": "markdown",
   "id": "b9c44d20",
   "metadata": {},
   "source": [
    "**TASK 2: Check if 50 and 51 are prime nos. are not using while loop**"
   ]
  },
  {
   "cell_type": "code",
   "execution_count": 13,
   "id": "7d19c43e",
   "metadata": {},
   "outputs": [
    {
     "name": "stdout",
     "output_type": "stream",
     "text": [
      "50 is not prime number\n",
      "51 is not prime number\n"
     ]
    }
   ],
   "source": [
    "p = [50,51]\n",
    "c = 0\n",
    "\n",
    "for i in p:\n",
    "    for j in range(2,i):\n",
    "        if i%j==0:\n",
    "            c = 1\n",
    "            break\n",
    "    if c==1:\n",
    "        print(i,\"is not prime number\")\n",
    "    else:\n",
    "        print(i,\"is a prime number\")"
   ]
  },
  {
   "cell_type": "markdown",
   "id": "78da8190",
   "metadata": {},
   "source": [
    "**TASK 3: Sum of all digits**"
   ]
  },
  {
   "cell_type": "code",
   "execution_count": 22,
   "id": "d339bd64",
   "metadata": {},
   "outputs": [
    {
     "name": "stdout",
     "output_type": "stream",
     "text": [
      "Using while loop\n",
      "Enter a number: 123\n",
      "Sum is:  6\n",
      "Using for loop\n",
      "Enter a number 12345\n",
      "Sum is 15\n"
     ]
    }
   ],
   "source": [
    "#Using while loop\n",
    "print(\"Using while loop\")\n",
    "num = int(input(\"Enter a number: \"))\n",
    "s = 0\n",
    "\n",
    "while(num!=0):\n",
    "    r = num%10\n",
    "    s = s + r\n",
    "    num = num//10\n",
    "\n",
    "print(\"Sum is: \",s)\n",
    "\n",
    "#using for loop\n",
    "\n",
    "print(\"Using for loop\")\n",
    "num1 = int(input(\"Enter a number \"))\n",
    "s1 = 0\n",
    "c = 0\n",
    "num2 =  num1\n",
    "\n",
    "#counting the number of digits\n",
    "while(num1!=0):\n",
    "    r1 = num1%10\n",
    "    c = c + 1 #c will store number of digits\n",
    "    num1 = num1//10\n",
    "\n",
    "#calculating sum\n",
    "for i in range(1,c+1):\n",
    "    r2 = num2%10\n",
    "    s1 = s1 + r2\n",
    "    num2 = num2//10\n",
    "\n",
    "print(\"Sum is\",s1)"
   ]
  },
  {
   "cell_type": "markdown",
   "id": "558a37b5",
   "metadata": {},
   "source": [
    "**TASK 4: Fibonacci Series using while loop**"
   ]
  },
  {
   "cell_type": "code",
   "execution_count": 24,
   "id": "679f1525",
   "metadata": {},
   "outputs": [
    {
     "name": "stdout",
     "output_type": "stream",
     "text": [
      "0 1 1 2 3 5 8 13 21 "
     ]
    }
   ],
   "source": [
    "a = 0 #first no. of series\n",
    "b = 1 #second no of series\n",
    "n = 1\n",
    "\n",
    "print(a,end=\" \")\n",
    "print(b,end=\" \")\n",
    "\n",
    "while(n<8):\n",
    "    c = a + b\n",
    "    print(c,end=\" \")\n",
    "    a = b\n",
    "    b = c\n",
    "    n = n + 1"
   ]
  },
  {
   "cell_type": "markdown",
   "id": "df297ab4",
   "metadata": {},
   "source": [
    "**TASK 5: Adding two tuples**"
   ]
  },
  {
   "cell_type": "code",
   "execution_count": 30,
   "id": "82265d1f",
   "metadata": {},
   "outputs": [
    {
     "name": "stdout",
     "output_type": "stream",
     "text": [
      "Before Addition:\n",
      "id of t1 2296109004096\n",
      "id of t2 2296122249280\n",
      "After Addition:\n",
      "id of t1 2296109041792\n",
      "id of t2 2296122249280\n",
      "value of id for tuples changed after addition because tuples are immutable in nature. If addition is done on it, new tuple will get created in a different memory location\n"
     ]
    }
   ],
   "source": [
    "t1 = (1,2,3)\n",
    "t2 = (4,5,6)\n",
    "\n",
    "#Before addition\n",
    "print(\"Before Addition:\")\n",
    "print(\"id of t1\",id(t1))\n",
    "print(\"id of t2\",id(t2))\n",
    "\n",
    "t1 = t1 + t2\n",
    "\n",
    "#Ater addition\n",
    "print(\"After Addition:\")\n",
    "print(\"id of t1\",id(t1))\n",
    "print(\"id of t2\",id(t2))\n",
    "\n",
    "print(\"value of id for tuples changed after addition because tuples are immutable in nature. If addition is done on it, new tuple will get created in a different memory location\")"
   ]
  },
  {
   "cell_type": "markdown",
   "id": "1041dadf",
   "metadata": {},
   "source": [
    "**TASK 6: Inserting Data into Sets**"
   ]
  },
  {
   "cell_type": "code",
   "execution_count": 33,
   "id": "8f8fb846",
   "metadata": {},
   "outputs": [
    {
     "name": "stdout",
     "output_type": "stream",
     "text": [
      "Before insertion: \n",
      "m:  {50, 20, 40, 10, 30}\n",
      "n:  [33, 40, 55, 60, 70]\n",
      "After insertion: \n",
      "m:  {70, 10, 20, 30, 33, 40, 50, 55, 60}\n",
      "n:  [33, 40, 55, 60, 70]\n"
     ]
    }
   ],
   "source": [
    "m = {10,20,30,40,50}\n",
    "n= [33,40,55,60,70]\n",
    "\n",
    "print(\"Before insertion: \")\n",
    "print(\"m: \",m)\n",
    "print(\"n: \",n)\n",
    "\n",
    "#inserting list to set one by one\n",
    "\n",
    "for i in n:\n",
    "    m.add(i)\n",
    "\n",
    "print(\"After insertion: \")\n",
    "print(\"m: \",m)\n",
    "print(\"n: \",n)\n",
    "\n",
    "#The elements that were common to both 'm' and 'n' were not added again to 'm'.\n",
    "#This is because 'm' is a set and set holds only unique values"
   ]
  },
  {
   "cell_type": "markdown",
   "id": "d1a0d0a3",
   "metadata": {},
   "source": [
    "**TASK 7: Iterating over a Dictionary**"
   ]
  },
  {
   "cell_type": "code",
   "execution_count": 44,
   "id": "d3b197c0",
   "metadata": {},
   "outputs": [
    {
     "name": "stdout",
     "output_type": "stream",
     "text": [
      "Data : 2\n",
      "SQL : 4\n"
     ]
    }
   ],
   "source": [
    "#pending\n",
    "Data_Set = {'Python':1,'Data':2,'Excel':3,'SQL':4}\n",
    "\n",
    "for i,j in Data_Set.items():\n",
    "    if j%2==0:\n",
    "        print(i,\":\",j)"
   ]
  },
  {
   "cell_type": "markdown",
   "id": "67067950",
   "metadata": {},
   "source": [
    "**TASK 8: Populating a Dictionary**"
   ]
  },
  {
   "cell_type": "code",
   "execution_count": 41,
   "id": "9bb27590",
   "metadata": {},
   "outputs": [
    {
     "name": "stdout",
     "output_type": "stream",
     "text": [
      "{1: 1, 2: 4, 3: 9, 4: 16, 5: 25, 6: 36, 7: 49, 8: 64, 9: 81, 10: 100, 11: 121, 12: 144, 13: 169, 14: 196, 15: 225}\n",
      "Updated dictionary {1: 1, 2: 4, 3: 9, 4: 16, 5: 25, 6: 36, 7: 49, 8: 64, 9: 81, 10: 100, 11: 121, 12: 144, 13: 169, 14: 196, 15: 225, 100: 10000}\n"
     ]
    }
   ],
   "source": [
    "D = {}\n",
    "\n",
    "for key in range(1,16):\n",
    "    D.update({key:key*key})\n",
    "    \n",
    "print(D)\n",
    "\n",
    "D.update({100:10000})\n",
    "\n",
    "print(\"Updated dictionary\",D)"
   ]
  },
  {
   "cell_type": "code",
   "execution_count": null,
   "id": "59716ee0",
   "metadata": {},
   "outputs": [],
   "source": []
  },
  {
   "cell_type": "code",
   "execution_count": null,
   "id": "b8af1d15",
   "metadata": {},
   "outputs": [],
   "source": []
  },
  {
   "cell_type": "code",
   "execution_count": null,
   "id": "5f37b2d3",
   "metadata": {},
   "outputs": [],
   "source": []
  },
  {
   "cell_type": "code",
   "execution_count": null,
   "id": "eeeffa3e",
   "metadata": {},
   "outputs": [],
   "source": []
  }
 ],
 "metadata": {
  "kernelspec": {
   "display_name": "Python 3 (ipykernel)",
   "language": "python",
   "name": "python3"
  },
  "language_info": {
   "codemirror_mode": {
    "name": "ipython",
    "version": 3
   },
   "file_extension": ".py",
   "mimetype": "text/x-python",
   "name": "python",
   "nbconvert_exporter": "python",
   "pygments_lexer": "ipython3",
   "version": "3.11.4"
  }
 },
 "nbformat": 4,
 "nbformat_minor": 5
}
