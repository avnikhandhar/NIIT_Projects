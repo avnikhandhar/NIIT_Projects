{
 "cells": [
  {
   "cell_type": "code",
   "execution_count": 6,
   "id": "b6db9ecd",
   "metadata": {},
   "outputs": [
    {
     "name": "stdout",
     "output_type": "stream",
     "text": [
      "{'Sno': 1, 'Pack': 'a pack of 20', 'Qty': 3, 'Cost': 2.5}\n",
      "5\n"
     ]
    }
   ],
   "source": [
    "avail_quantity = {\"Biscuits\":{\"Sno\":1,\"Pack\":\"a pack of 20\",\"Qty\":5,\"Cost\":2.50},\n",
    "                  \"Cereals\":{\"Sno\":2,\"Pack\":\"2 pounds/pack\",\"Qty\":10,\"Cost\":3.50},\n",
    "                  \"Chicken\":{\"Sno\":3,\"Pack\":\"1 pound/pack\",\"Qty\":20,\"Cost\":13.30},\n",
    "                  \"Oats\":{\"Sno\":4,\"Pack\":\"4 pounds/pack\",\"Qty\":20,\"Cost\":3.90},\n",
    "                  \"Rice\":{\"Sno\":5,\"Pack\":\"2 pounds/pack\",\"Qty\":30,\"Cost\":4.50}}\n",
    "\n",
    "avail_quantity[\"Biscuits\"][\"Qty\"] = avail_quantity[\"Biscuits\"][\"Qty\"] - 2\n",
    "\n",
    "print(avail_quantity[\"Biscuits\"])\n",
    "\n",
    "l  = avail_quantity.keys()\n",
    "print(len(l))"
   ]
  }
 ],
 "metadata": {
  "kernelspec": {
   "display_name": "Python 3 (ipykernel)",
   "language": "python",
   "name": "python3"
  },
  "language_info": {
   "codemirror_mode": {
    "name": "ipython",
    "version": 3
   },
   "file_extension": ".py",
   "mimetype": "text/x-python",
   "name": "python",
   "nbconvert_exporter": "python",
   "pygments_lexer": "ipython3",
   "version": "3.11.4"
  }
 },
 "nbformat": 4,
 "nbformat_minor": 5
}
