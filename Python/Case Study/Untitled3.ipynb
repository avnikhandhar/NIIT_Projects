{
 "cells": [
  {
   "cell_type": "code",
   "execution_count": 5,
   "id": "dfd884b4",
   "metadata": {},
   "outputs": [
    {
     "name": "stdout",
     "output_type": "stream",
     "text": [
      "THIS        TITLES      ROW         HAS         MORE        ELEMENTS    THAN        OTHER       ROWS\n",
      "Kunal       Khanna      is          a           good        boy\n",
      "sathya      is          very        good        in          mathematics\n",
      "we          managed     to          align       everything  in          a           beautiful   2.3\n",
      "it          also        supports                blank                   Parameters              perfectly\n"
     ]
    }
   ],
   "source": [
    "blockify = lambda values,colspan:str(values[0]) if len(values) == 1 else (str(values[0])+\" \"*(colspan - len(str(values[0]))) + blockify(values[1:],colspan))\n",
    "\n",
    "size = 12\n",
    "print(blockify([\"THIS\",\"TITLES\",\"ROW\",\"HAS\",\"MORE\",\"ELEMENTS\",\"THAN\",\"OTHER\",\"ROWS\"],size))\n",
    "print(blockify([\"Kunal\",\"Khanna\",\"is\",\"a\",\"good\",\"boy\"],size))\n",
    "print(blockify([\"sathya\",\"is\",\"very\",\"good\",\"in\",\"mathematics\"],size))\n",
    "print(blockify([\"we\",\"managed\",\"to\",\"align\",\"everything\",\"in\",\"a\",\"beautiful\",2.3],size))\n",
    "print(blockify([\"it\",\"also\",\"supports\",\"\",\"blank\",\"\",\"Parameters\",\"\",\"perfectly\"],size))\n"
   ]
  }
 ],
 "metadata": {
  "kernelspec": {
   "display_name": "Python 3 (ipykernel)",
   "language": "python",
   "name": "python3"
  },
  "language_info": {
   "codemirror_mode": {
    "name": "ipython",
    "version": 3
   },
   "file_extension": ".py",
   "mimetype": "text/x-python",
   "name": "python",
   "nbconvert_exporter": "python",
   "pygments_lexer": "ipython3",
   "version": "3.11.4"
  }
 },
 "nbformat": 4,
 "nbformat_minor": 5
}
