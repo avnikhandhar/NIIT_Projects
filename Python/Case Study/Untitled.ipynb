{
 "cells": [
  {
   "cell_type": "code",
   "execution_count": 6,
   "id": "cd9d0679",
   "metadata": {},
   "outputs": [
    {
     "name": "stdout",
     "output_type": "stream",
     "text": [
      "\t\t\tEssential Items Available\n",
      "\n",
      "S.No\t\tItem\t\t\t\tQuantity\tCost/Item\n",
      "1\t\tBiscuits:A Pack of 20\t\t5\t\t2.5\n",
      "2\t\tCereals:2 pounds/pack\t\t10\t\t3.5\n",
      "3\t\tChicken:1 pound/pack\t\t20\t\t13.3\n",
      "4\t\tOats:4 pounds/pack\t\t20\t\t3.9\n",
      "5\t\tRice:2 pounds/pack\t\t30\t\t4.5\n",
      "\n",
      "\n",
      "How many packets of Biscuits are required? y\n",
      "Invalid Input! How many packets of Biscuits are required? 6\n",
      "Only 5 Units Available! Would you like to buy 5 available units?\n",
      "How many packets of Cereals are required? 3\n",
      "How many packets of Chicken are required? fd\n",
      "Invalid Input! How many packets of Chicken are required? sdf\n",
      "Invalid Input! How many packets of Chicken are required? sdf\n",
      "Invalid Input! How many packets of Chicken are required? sdf\n",
      "Invalid Input! How many packets of Chicken are required? sdf\n",
      "Invalid Input! How many packets of Chicken are required? sdf\n",
      "Invalid Input! How many packets of Chicken are required? sdf\n",
      "Invalid Input! How many packets of Chicken are required? sdf\n",
      "Invalid Input! How many packets of Chicken are required? sdf\n",
      "Invalid Input! How many packets of Chicken are required? sdf\n",
      "Invalid Input! How many packets of Chicken are required? sdf\n",
      "Invalid Input! How many packets of Chicken are required? sdf\n",
      "Invalid Input! How many packets of Chicken are required? -100\n",
      "Invalid Input! How many packets of Chicken are required? 1.2\n",
      "Invalid Input! How many packets of Chicken are required? 0\n",
      "How many packets of Oats are required? 0\n",
      "How many packets of Rice are required? 0\n",
      "{'Biscuits': 6, 'Cereals': 3, 'Chicken': 0, 'Oats': 0, 'Rice': 0}\n"
     ]
    }
   ],
   "source": [
    "sp = lambda i:\"\\t\"*i\n",
    "\n",
    "cart = {}\n",
    "\n",
    "def init_once(state):\n",
    "    if(\"stock\" in globals() and state):\n",
    "        return    \n",
    "    stock = {\n",
    "            \"Biscuits\":{\"unit\":\"A Pack of 20\",\"quantity\":5,\"cost\":2.5},\n",
    "            \"Cereals\":{\"unit\":\"2 pounds/pack\",\"quantity\":10,\"cost\":3.5},\n",
    "            \"Chicken\":{\"unit\":\"1 pound/pack\",\"quantity\":20,\"cost\":13.3},\n",
    "            \"Oats\":{\"unit\":\"4 pounds/pack\",\"quantity\":20,\"cost\":3.9},\n",
    "            \"Rice\":{\"unit\":\"2 pounds/pack\",\"quantity\":30,\"cost\":4.5}\n",
    "        }\n",
    "\n",
    "def get_headers():\n",
    "    print(sp(3)+\"Essential Items Available\\n\")\n",
    "    print(\"S.No\"+sp(2)+\"Item\"+sp(4)+\"Quantity\"+sp(1)+\"Cost/Item\")\n",
    "\n",
    "def get_items():\n",
    "    get_headers()\n",
    "    serial = 1\n",
    "    for item in stock.keys():\n",
    "        print(str(serial)+sp(2)+item+\":\"+stock[item][\"unit\"]+sp(2)+str(stock[item][\"quantity\"])+sp(2)+str(stock[item][\"cost\"]))\n",
    "        serial+=1\n",
    "    print(\"\\n\")\n",
    "    \n",
    "def input_num(prompt):\n",
    "    value = input(prompt)\n",
    "    while(not value.isdigit() or int(value)<0):\n",
    "        value = input(\"Invalid Input! \"+prompt)\n",
    "    return int(value)\n",
    "    \n",
    "def build_cart():\n",
    "    global cart, stock\n",
    "    for item in stock.keys():\n",
    "        quantity = input_num(\"How many packets of \"+item+\" are required? \")\n",
    "        if(quantity>stock[item][\"quantity\"]):\n",
    "            print(\"Only\",stock[item][\"quantity\"],\"Units Available!\",\"Would you like to buy\",stock[item][\"quantity\"],\"available units?\")\n",
    "        cart[item] = quantity\n",
    "\n",
    "\n",
    "\n",
    "init_once(True)\n",
    "get_items()\n",
    "build_cart()\n",
    "print(cart)\n"
   ]
  },
  {
   "cell_type": "code",
   "execution_count": 25,
   "id": "600c22c5",
   "metadata": {},
   "outputs": [
    {
     "name": "stdout",
     "output_type": "stream",
     "text": [
      "Available qty:86How much units you want to buy? 12\n",
      "74\n"
     ]
    }
   ],
   "source": [
    "if not \"parle_avni\" in globals():\n",
    "    parle_avni = 100\n",
    "qty = int(input(\"Available qty:\"+str(parle_avni)+\"How much units you want to buy? \"))\n",
    "parle_avni -=qty\n",
    "print(parle_avni)"
   ]
  },
  {
   "cell_type": "code",
   "execution_count": null,
   "id": "51d217b7",
   "metadata": {},
   "outputs": [],
   "source": []
  },
  {
   "cell_type": "code",
   "execution_count": 20,
   "id": "94880444",
   "metadata": {},
   "outputs": [
    {
     "name": "stdout",
     "output_type": "stream",
     "text": [
      "Available qty:94How much units you want to buy? 3\n",
      "91\n"
     ]
    }
   ],
   "source": []
  },
  {
   "cell_type": "code",
   "execution_count": 5,
   "id": "6b77ebca",
   "metadata": {},
   "outputs": [
    {
     "name": "stdout",
     "output_type": "stream",
     "text": [
      "Biscuits A Pack of 20 5 2.5\n",
      "Cereals 2 pounds/pack 10 3.5\n",
      "Chicken 1 pound/pack 20 13.3\n",
      "Oats 4 pounds/pack 20 3.9\n",
      "Rice 2 pounds/pack 30 4.5\n"
     ]
    }
   ],
   "source": [
    " stock = {\n",
    "            \"Biscuits\":{\"unit\":\"A Pack of 20\",\"quantity\":5,\"cost\":2.5},\n",
    "            \"Cereals\":{\"unit\":\"2 pounds/pack\",\"quantity\":10,\"cost\":3.5},\n",
    "            \"Chicken\":{\"unit\":\"1 pound/pack\",\"quantity\":20,\"cost\":13.3},\n",
    "            \"Oats\":{\"unit\":\"4 pounds/pack\",\"quantity\":20,\"cost\":3.9},\n",
    "            \"Rice\":{\"unit\":\"2 pounds/pack\",\"quantity\":30,\"cost\":4.5}\n",
    "        }\n",
    "\n",
    "stock[\"Biscuits\"][\"quantity\"]\n",
    "\n",
    "for item in stock.keys():\n",
    "    print(item,stock[item][\"unit\"],stock[item][\"quantity\"],stock[item][\"cost\"])"
   ]
  }
 ],
 "metadata": {
  "kernelspec": {
   "display_name": "Python 3 (ipykernel)",
   "language": "python",
   "name": "python3"
  },
  "language_info": {
   "codemirror_mode": {
    "name": "ipython",
    "version": 3
   },
   "file_extension": ".py",
   "mimetype": "text/x-python",
   "name": "python",
   "nbconvert_exporter": "python",
   "pygments_lexer": "ipython3",
   "version": "3.11.4"
  }
 },
 "nbformat": 4,
 "nbformat_minor": 5
}
