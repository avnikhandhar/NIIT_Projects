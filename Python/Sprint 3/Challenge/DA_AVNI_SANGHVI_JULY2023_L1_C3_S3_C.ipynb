{
 "cells": [
  {
   "cell_type": "code",
   "execution_count": 1,
   "id": "49ca9bd7",
   "metadata": {},
   "outputs": [],
   "source": [
    "data= [\"Mark Antony\",\"John Chan\",\"Bret Lee\",\"Jim Nick\",\"Janice Ken\",\"Florida Thomson\",\"Lily Jason\",\"Matt Antony\",\"Mark Thomas\",\n",
    "      \"Kenny Peterson\",\"Joe Cook\",\"Alexander Thomas\",\"Katy Perry\",\"Alexanderia Peterson\",\"Mark Antony\"]"
   ]
  },
  {
   "cell_type": "markdown",
   "id": "ab8e2db9",
   "metadata": {},
   "source": [
    "**TASK 1: Adding 5 more students in the list**"
   ]
  },
  {
   "cell_type": "code",
   "execution_count": 2,
   "id": "75dd040e",
   "metadata": {},
   "outputs": [
    {
     "name": "stdout",
     "output_type": "stream",
     "text": [
      "Enter the name to be added Avni Sanghvi\n",
      "Enter the name to be added Siddharth Singh\n",
      "Enter the name to be added Smith Vora\n",
      "Enter the name to be added Puja Agrawal\n",
      "Enter the name to be added Viaan Shah\n",
      "The final list becomes ['Mark Antony', 'John Chan', 'Bret Lee', 'Jim Nick', 'Janice Ken', 'Florida Thomson', 'Lily Jason', 'Matt Antony', 'Mark Thomas', 'Kenny Peterson', 'Joe Cook', 'Alexander Thomas', 'Katy Perry', 'Alexanderia Peterson', 'Mark Antony', 'Avni Sanghvi', 'Siddharth Singh', 'Smith Vora', 'Puja Agrawal', 'Viaan Shah']\n"
     ]
    }
   ],
   "source": [
    "for i in range(1,6):\n",
    "    item = input(\"Enter the name to be added \")\n",
    "    data.append(item)\n",
    "\n",
    "print(\"The final list becomes\",data)"
   ]
  },
  {
   "cell_type": "markdown",
   "id": "90c0bc63",
   "metadata": {},
   "source": [
    "**TASK 2: Names which were added later on**"
   ]
  },
  {
   "cell_type": "code",
   "execution_count": 3,
   "id": "f776c718",
   "metadata": {},
   "outputs": [
    {
     "name": "stdout",
     "output_type": "stream",
     "text": [
      "List of students in reverse order is:  ['Viaan Shah', 'Puja Agrawal', 'Smith Vora', 'Siddharth Singh', 'Avni Sanghvi', 'Mark Antony', 'Alexanderia Peterson', 'Katy Perry', 'Alexander Thomas', 'Joe Cook', 'Kenny Peterson', 'Mark Thomas', 'Matt Antony', 'Lily Jason', 'Florida Thomson', 'Janice Ken', 'Jim Nick', 'Bret Lee', 'John Chan', 'Mark Antony']\n"
     ]
    }
   ],
   "source": [
    "r_list = list(reversed(data))\n",
    "print(\"List of students in reverse order is: \",r_list)"
   ]
  },
  {
   "cell_type": "markdown",
   "id": "f85ed991",
   "metadata": {},
   "source": [
    "**TASK 3: Performing task 2 without using in-built function**"
   ]
  },
  {
   "cell_type": "code",
   "execution_count": 8,
   "id": "19c5ece0",
   "metadata": {},
   "outputs": [
    {
     "name": "stdout",
     "output_type": "stream",
     "text": [
      "Names which were added afterwards: \n",
      "Viaan Shah\n",
      "Puja Agrawal\n",
      "Smith Vora\n",
      "Siddharth Singh\n",
      "Avni Sanghvi\n",
      "Mark Antony\n",
      "Alexanderia Peterson\n",
      "Katy Perry\n",
      "Alexander Thomas\n",
      "Joe Cook\n",
      "Kenny Peterson\n",
      "Mark Thomas\n",
      "Matt Antony\n",
      "Lily Jason\n",
      "Florida Thomson\n",
      "Janice Ken\n",
      "Jim Nick\n",
      "Bret Lee\n",
      "John Chan\n",
      "Mark Antony\n"
     ]
    }
   ],
   "source": [
    "l = len(data)\n",
    "\n",
    "print(\"Names which were added afterwards: \")\n",
    "\n",
    "for i in range(1,l+1):\n",
    "        print(data[-i])\n"
   ]
  },
  {
   "cell_type": "markdown",
   "id": "92745ef9",
   "metadata": {},
   "source": [
    "**TASK 4: Check for duplicate names in list. Create a new list without the duplicate items**"
   ]
  },
  {
   "cell_type": "code",
   "execution_count": 27,
   "id": "8dda72fb",
   "metadata": {},
   "outputs": [
    {
     "name": "stdout",
     "output_type": "stream",
     "text": [
      "Mark Antony is more than once\n",
      "Final List is:  ['Mark Antony', 'John Chan', 'Bret Lee', 'Jim Nick', 'Janice Ken', 'Florida Thomson', 'Lily Jason', 'Matt Antony', 'Mark Thomas', 'Kenny Peterson', 'Joe Cook', 'Alexander Thomas', 'Katy Perry', 'Alexanderia Peterson', 'Avni Sanghvi', 'Siddharth Singh', 'Smith Vora', 'Puja Agrawal', 'Viaan Shah']\n"
     ]
    }
   ],
   "source": [
    "count = {}\n",
    "\n",
    "#counting the frequency of each names in 'data' list and saving it in a dictionary 'count' \n",
    "#with names as its key and frequency as value \n",
    "for name in data:\n",
    "    if name in count.keys():\n",
    "        count[name] = count[name] + 1\n",
    "    else:\n",
    "        count[name] = 1\n",
    "\n",
    "#checking for items having more than 1 count to get the duplicate entry\n",
    "for item in count.keys():\n",
    "    if count[item]>1:\n",
    "        print(item,\"is more than once\")\n",
    "        \n",
    "final_list = [] #creating a list to store un-repeated values\n",
    "\n",
    "for i in data:\n",
    "    if i not in final_list:\n",
    "        final_list.append(i)\n",
    "\n",
    "print(\"Final List is: \",final_list)"
   ]
  },
  {
   "cell_type": "markdown",
   "id": "fc0a113b",
   "metadata": {},
   "source": [
    "**TASK 5: Display 'final_list' in alphabetical order**"
   ]
  },
  {
   "cell_type": "code",
   "execution_count": 29,
   "id": "359ba8bb",
   "metadata": {},
   "outputs": [
    {
     "name": "stdout",
     "output_type": "stream",
     "text": [
      "The list of students in aplhabetical order: \n",
      "['Alexander Thomas', 'Alexanderia Peterson', 'Avni Sanghvi', 'Bret Lee', 'Florida Thomson', 'Janice Ken', 'Jim Nick', 'Joe Cook', 'John Chan', 'Katy Perry', 'Kenny Peterson', 'Lily Jason', 'Mark Antony', 'Mark Thomas', 'Matt Antony', 'Puja Agrawal', 'Siddharth Singh', 'Smith Vora', 'Viaan Shah']\n"
     ]
    }
   ],
   "source": [
    "print(\"The list of students in aplhabetical order: \")\n",
    "final_list.sort() #sorting the list to get alphabetical order\n",
    "print(final_list)"
   ]
  },
  {
   "cell_type": "markdown",
   "id": "c74662ef",
   "metadata": {},
   "source": [
    "**TASK 6: Display the names of selected students for spelling bee competition**"
   ]
  },
  {
   "cell_type": "code",
   "execution_count": 33,
   "id": "076bd2c9",
   "metadata": {},
   "outputs": [
    {
     "name": "stdout",
     "output_type": "stream",
     "text": [
      "List of those who got selected:  ['Alexanderia Peterson', 'Lily Jason', 'Viaan Shah']\n"
     ]
    }
   ],
   "source": [
    "#The previous task sorted the 'final_list'. Hence, using it for this task\n",
    "\n",
    "selection = []\n",
    "l = len(final_list)\n",
    "\n",
    "selection.append(final_list[1]) #Adding 2nd name of final_list\n",
    "selection.append(final_list[11])#Adding 12th name of final_list\n",
    "selection.append(final_list[l-1])#Adding last name of final_list\n",
    "\n",
    "print(\"List of those who got selected: \",selection)"
   ]
  },
  {
   "cell_type": "markdown",
   "id": "266cfb80",
   "metadata": {},
   "source": [
    "**TASK 7: Count no. of integers between 555 and 678(both excluding) which are divisible by 7**"
   ]
  },
  {
   "cell_type": "code",
   "execution_count": 15,
   "id": "185ddfce",
   "metadata": {},
   "outputs": [
    {
     "name": "stdout",
     "output_type": "stream",
     "text": [
      "17 integers are divisible by 7 between 555 and 678\n"
     ]
    }
   ],
   "source": [
    "c = 0\n",
    "\n",
    "for i in range(556,678):\n",
    "    if i%7==0:\n",
    "        c = c + 1\n",
    "        \n",
    "print(c,\"integers are divisible by 7 between 555 and 678\")"
   ]
  },
  {
   "cell_type": "markdown",
   "id": "d44bb54c",
   "metadata": {},
   "source": [
    "**TASK 8: Prints natural number till 30, skipping the numbers which are multiples of number given by user as input** "
   ]
  },
  {
   "cell_type": "code",
   "execution_count": 10,
   "id": "3e9e477c",
   "metadata": {},
   "outputs": [
    {
     "name": "stdout",
     "output_type": "stream",
     "text": [
      "Enter a number: 3\n",
      "Numbers between 1 to 3 which are not nultiples of 3 are: \n",
      "1 2 4 5 7 8 10 11 13 14 16 17 19 20 22 23 25 26 28 29 "
     ]
    }
   ],
   "source": [
    "n = int(input(\"Enter a number: \"))\n",
    "\n",
    "print(\"Numbers between 1 to\",n,\"which are not nultiples of\",n,\"are: \")\n",
    "for i in range(1,31):\n",
    "    if i%n!=0:\n",
    "        print(i,end=\" \")"
   ]
  },
  {
   "cell_type": "markdown",
   "id": "3060dac6",
   "metadata": {},
   "source": [
    "**TASK 9: Sum of consecutive elements from two different lists**"
   ]
  },
  {
   "cell_type": "code",
   "execution_count": 20,
   "id": "2b4e2761",
   "metadata": {},
   "outputs": [
    {
     "name": "stdout",
     "output_type": "stream",
     "text": [
      "The required list is:  [20, 22, 20, 10, 20, 20, 20, 20, 15]\n"
     ]
    }
   ],
   "source": [
    "firstlist = [1,21,3,4,5,6,7,18,4]\n",
    "secondlist = [19,1,17,6,15,14,13,2,11]\n",
    "thirdlist = []\n",
    "\n",
    "l = len(firstlist)\n",
    "\n",
    "for i in range(0,l):\n",
    "    a = firstlist[i] + secondlist[i]\n",
    "    thirdlist.append(a)\n",
    "\n",
    "print(\"The required list is: \",thirdlist)"
   ]
  }
 ],
 "metadata": {
  "kernelspec": {
   "display_name": "Python 3 (ipykernel)",
   "language": "python",
   "name": "python3"
  },
  "language_info": {
   "codemirror_mode": {
    "name": "ipython",
    "version": 3
   },
   "file_extension": ".py",
   "mimetype": "text/x-python",
   "name": "python",
   "nbconvert_exporter": "python",
   "pygments_lexer": "ipython3",
   "version": "3.11.4"
  }
 },
 "nbformat": 4,
 "nbformat_minor": 5
}
