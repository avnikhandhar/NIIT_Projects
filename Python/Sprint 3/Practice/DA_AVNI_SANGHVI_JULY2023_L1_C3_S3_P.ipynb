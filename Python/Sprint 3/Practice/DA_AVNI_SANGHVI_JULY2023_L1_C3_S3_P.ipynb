{
 "cells": [
  {
   "cell_type": "markdown",
   "id": "1b2816a6",
   "metadata": {},
   "source": [
    "**TASK 1: Searching a List**"
   ]
  },
  {
   "cell_type": "code",
   "execution_count": 1,
   "id": "d1a35880",
   "metadata": {},
   "outputs": [
    {
     "name": "stdout",
     "output_type": "stream",
     "text": [
      "False\n"
     ]
    }
   ],
   "source": [
    "mynames = [\"Joe\",\"Zoe\",\"world\",\"Brad\",\"Angelina\",\"world\",\"Zuki\",\"Tom\",\"Paris\",\"world\",\"magic\"]\n",
    "if \"USA\" in mynames:\n",
    "    print(\"True\")\n",
    "else:\n",
    "    print(\"False\")"
   ]
  },
  {
   "cell_type": "markdown",
   "id": "4b54a9ad",
   "metadata": {},
   "source": [
    "**TASK 2: Frequency Counts of Elements in a List**"
   ]
  },
  {
   "cell_type": "code",
   "execution_count": 2,
   "id": "e4b7d62b",
   "metadata": {},
   "outputs": [
    {
     "name": "stdout",
     "output_type": "stream",
     "text": [
      "The word 'world' occures 3 times in given list\n"
     ]
    }
   ],
   "source": [
    "mynames = [\"Joe\",\"Zoe\",\"world\",\"Brad\",\"Angelina\",\"world\",\"Zuki\",\"Tom\",\"Paris\",\"world\",\"magic\"]\n",
    "c = mynames.count(\"world\") #count() function counts the occurences of word 'world' in 'mynames' list\n",
    "print(\"The word 'world' occures\",c,\"times in given list\")"
   ]
  },
  {
   "cell_type": "markdown",
   "id": "fdbb3125",
   "metadata": {},
   "source": [
    "**TASK 3: Looping over a list**"
   ]
  },
  {
   "cell_type": "code",
   "execution_count": 2,
   "id": "d02450df",
   "metadata": {},
   "outputs": [
    {
     "name": "stdout",
     "output_type": "stream",
     "text": [
      "No. of Even numbers: 14\n",
      "No. of Odd numbers: 15\n"
     ]
    }
   ],
   "source": [
    "numlist=[] #creating empty list\n",
    "e_count = 0 #initialising count of even nos to zero\n",
    "o_count = 0 #initialising count of odd nos to zero\n",
    "\n",
    "for i in range(1,30):\n",
    "    numlist.append(i) #creating list in range(1,30)\n",
    "    \n",
    "for j in numlist: #checking for even/odd type in list\n",
    "    if j%2==0:    #checking for even number\n",
    "        e_count = e_count + 1   #counting even numbers\n",
    "    else:\n",
    "        o_count = o_count +1    #counting odd numbers\n",
    "\n",
    "print(\"No. of Even numbers:\",e_count)\n",
    "print(\"No. of Odd numbers:\",o_count)"
   ]
  },
  {
   "cell_type": "markdown",
   "id": "0963a805",
   "metadata": {},
   "source": [
    "**TASK 4: Appending Elements to a List**"
   ]
  },
  {
   "cell_type": "code",
   "execution_count": 14,
   "id": "50e9cc8f",
   "metadata": {},
   "outputs": [
    {
     "name": "stdout",
     "output_type": "stream",
     "text": [
      "[2, 4, 6, 8, 10]\n"
     ]
    }
   ],
   "source": [
    "c = 0 #keeping count with c as counter variable\n",
    "el = [] #creating an empty list\n",
    "for k in numlist:\n",
    "    if c<5:\n",
    "        if k%2==0:\n",
    "            el.append(k)\n",
    "            c = c + 1\n",
    "print(el) #printing the new list"
   ]
  },
  {
   "cell_type": "markdown",
   "id": "21611164",
   "metadata": {},
   "source": [
    "**TASK 5: Arithmetic Operations on List Elements**"
   ]
  },
  {
   "cell_type": "code",
   "execution_count": 8,
   "id": "92755f39",
   "metadata": {},
   "outputs": [
    {
     "name": "stdout",
     "output_type": "stream",
     "text": [
      "[1, 2, 3, 4, 5, 6, 7, 8, 9, 10, 11, 12, 13, 14, 15, 16, 17, 18, 19, 20, 21, 22, 23, 24, 25, 26, 27, 28, 29]\n",
      "29 27 "
     ]
    }
   ],
   "source": [
    "print(numlist)\n",
    "c = 0\n",
    "for i in range(1,30):\n",
    "    if c<2:\n",
    "        if numlist[-i]%2==1:\n",
    "            c = c + 1\n",
    "            print(numlist[-i],end=\" \")"
   ]
  },
  {
   "cell_type": "markdown",
   "id": "2c247d5d",
   "metadata": {},
   "source": [
    "**TASK 6: Appending Two Lists**"
   ]
  },
  {
   "cell_type": "code",
   "execution_count": 36,
   "id": "e009ab0c",
   "metadata": {},
   "outputs": [
    {
     "name": "stdout",
     "output_type": "stream",
     "text": [
      "Enter the string String 1\n",
      "Enter the string String 2\n",
      "Enter the string String 3\n",
      "Enter the string String 4\n",
      "Enter the string String 5\n",
      "Enter the number 6\n",
      "Enter the number 9\n",
      "Enter the number 3\n",
      "['String 1', 'String 2', 'String 3', 'String 4', 'String 5', 6, 9, 3]\n"
     ]
    }
   ],
   "source": [
    "x = [] #Creating first empty list\n",
    "y = [] #Creating second empty list\n",
    "\n",
    "for i in range(1,6):  #filling first list\n",
    "    a = input(\"Enter the string \")\n",
    "    x.append(a)\n",
    "    \n",
    "for j in range(1,4): #filling second list\n",
    "    b = int(input(\"Enter the number \"))\n",
    "    y.append(b)\n",
    "    \n",
    "print(x + y) #appending second list to first list"
   ]
  },
  {
   "cell_type": "markdown",
   "id": "e7d2a73e",
   "metadata": {},
   "source": [
    "**TASK 7: Populating Elements in a List**"
   ]
  },
  {
   "cell_type": "code",
   "execution_count": 38,
   "id": "4338e9d7",
   "metadata": {},
   "outputs": [
    {
     "name": "stdout",
     "output_type": "stream",
     "text": [
      "list_a: [1, 4, 9, 16, 25, 36, 49, 64, 81, 100]\n",
      "list_b: [900, 961, 1024, 1089, 1156, 1225, 1296, 1369, 1444, 1521, 1600]\n"
     ]
    }
   ],
   "source": [
    "list_a = [] #Creating two empty lists\n",
    "list_b = []\n",
    "\n",
    "for i in range(1,11): #Popuplating list 1 with squares of nos from 1 to 10\n",
    "    a = i*i\n",
    "    list_a.append(a)\n",
    "    \n",
    "for j in range(30,41):#Populating list 2 with squares of nos from 30 to 40\n",
    "    b = j*j\n",
    "    list_b.append(b)\n",
    "\n",
    "print(\"list_a:\",list_a) #printing both the lists\n",
    "print(\"list_b:\",list_b)"
   ]
  },
  {
   "cell_type": "markdown",
   "id": "ff05242a",
   "metadata": {},
   "source": [
    "**TASK 8: Iterations in Python Using \"for\" loop**"
   ]
  },
  {
   "cell_type": "code",
   "execution_count": 39,
   "id": "34b0ba88",
   "metadata": {},
   "outputs": [
    {
     "name": "stdout",
     "output_type": "stream",
     "text": [
      "Enter a number for its multiplication table5\n",
      "5 x 1 = 5\n",
      "5 x 2 = 10\n",
      "5 x 3 = 15\n",
      "5 x 4 = 20\n",
      "5 x 5 = 25\n",
      "5 x 6 = 30\n",
      "5 x 7 = 35\n",
      "5 x 8 = 40\n",
      "5 x 9 = 45\n",
      "5 x 10 = 50\n"
     ]
    }
   ],
   "source": [
    "n = int(input(\"Enter a number for its multiplication table\"))\n",
    "\n",
    "for i in range(1,11):\n",
    "    print(n,\"x\",i,\"=\",n*i)"
   ]
  }
 ],
 "metadata": {
  "kernelspec": {
   "display_name": "Python 3 (ipykernel)",
   "language": "python",
   "name": "python3"
  },
  "language_info": {
   "codemirror_mode": {
    "name": "ipython",
    "version": 3
   },
   "file_extension": ".py",
   "mimetype": "text/x-python",
   "name": "python",
   "nbconvert_exporter": "python",
   "pygments_lexer": "ipython3",
   "version": "3.11.4"
  }
 },
 "nbformat": 4,
 "nbformat_minor": 5
}
