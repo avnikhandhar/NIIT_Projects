{
 "cells": [
  {
   "cell_type": "markdown",
   "id": "c8a2b24c",
   "metadata": {},
   "source": [
    "**TASK 1 : Give local time of NYC and get time in France(france time is 6hrs less than NYC time)** "
   ]
  },
  {
   "cell_type": "code",
   "execution_count": 3,
   "id": "f9484fa4",
   "metadata": {},
   "outputs": [
    {
     "name": "stdout",
     "output_type": "stream",
     "text": [
      "Enter the time in NYC in HH:MM:SS format23:50:00\n",
      "The current time in france is 5:50:00\n"
     ]
    }
   ],
   "source": [
    "from datetime import datetime\n",
    "nt = input(\"Enter the time in NYC in HH:MM:SS format\")\n",
    "ft = datetime.strptime(nt,\"%H:%M:%S\") - datetime.strptime(\"18:00:00\",\"%H:%M:%S\")\n",
    "t = \"The current time in france is {time}\".format(time=ft)\n",
    "print(t)"
   ]
  },
  {
   "cell_type": "markdown",
   "id": "ca4fa4b6",
   "metadata": {},
   "source": [
    "**TASK 2 : How many dollars will matt need to spend to get 500 Euros, including 1.75% of service charge (1.1 dollar=1 Euro)**"
   ]
  },
  {
   "cell_type": "code",
   "execution_count": 28,
   "id": "a1c77bda",
   "metadata": {},
   "outputs": [
    {
     "name": "stdout",
     "output_type": "stream",
     "text": [
      "Matt will be required to spend 559.625 dollars for 500 Euros\n"
     ]
    }
   ],
   "source": [
    "amount_dollar = 500*1.1\n",
    "amount_dollar_sc = ((amount_dollar * 1.75)/100) + amount_dollar\n",
    "out = \"Matt will be required to spend {0} dollars for 500 Euros\".format(amount_dollar_sc)\n",
    "print(out)"
   ]
  },
  {
   "cell_type": "markdown",
   "id": "c6797113",
   "metadata": {},
   "source": [
    "**TASK 3: 45-days expenditure of Matt in France**"
   ]
  },
  {
   "cell_type": "code",
   "execution_count": 29,
   "id": "0b97dea6",
   "metadata": {},
   "outputs": [
    {
     "name": "stdout",
     "output_type": "stream",
     "text": [
      "Matt will need 7200.0 for his 45 day trip to France\n"
     ]
    }
   ],
   "source": [
    "one_day_cost = 4000/30\n",
    "fortyFive_day_cost = one_day_cost *45\n",
    "total = fortyFive_day_cost + ((20*fortyFive_day_cost)/100)\n",
    "k = \"Matt will need {} for his 45 day trip to France\".format(total)\n",
    "print(k)"
   ]
  },
  {
   "cell_type": "markdown",
   "id": "3218b372",
   "metadata": {},
   "source": [
    "**TASK 4: Profit from an investment after a month** "
   ]
  },
  {
   "cell_type": "code",
   "execution_count": 5,
   "id": "bd3f0b89",
   "metadata": {},
   "outputs": [
    {
     "name": "stdout",
     "output_type": "stream",
     "text": [
      "Matt will earn a profit of 1000.0 dollars after a month\n"
     ]
    }
   ],
   "source": [
    "interest = (5*20000)/100\n",
    "i = \"Matt will earn a profit of {0} dollars after a month\".format(interest)\n",
    "print(i)"
   ]
  },
  {
   "cell_type": "markdown",
   "id": "8111b5b2",
   "metadata": {},
   "source": [
    "**TASK 5: Calculate no. of miles Matt should practice walking per day in NYC**"
   ]
  },
  {
   "cell_type": "code",
   "execution_count": 6,
   "id": "023fce73",
   "metadata": {},
   "outputs": [
    {
     "name": "stdout",
     "output_type": "stream",
     "text": [
      "Matt should walk 7.224 miles daily in NYC\n"
     ]
    }
   ],
   "source": [
    "no_of_miles = 12 * 0.602\n",
    "j = \"Matt should walk {dist} miles daily in NYC\".format(dist=no_of_miles)\n",
    "print(j)"
   ]
  },
  {
   "cell_type": "markdown",
   "id": "10d9bcfe",
   "metadata": {},
   "source": [
    "**TASK 6: Number of Laps an athelete have to complete**"
   ]
  },
  {
   "cell_type": "code",
   "execution_count": 8,
   "id": "63d00087",
   "metadata": {},
   "outputs": [
    {
     "name": "stdout",
     "output_type": "stream",
     "text": [
      " 1670 laps have to be completed by an athlete for 3328km\n"
     ]
    }
   ],
   "source": [
    "distance_in_miles = 3328 * 0.602\n",
    "no_of_laps = round(distance_in_miles/1.2)\n",
    "a = \" {value} laps have to be completed by an athlete for 3328km\".format(value=no_of_laps)\n",
    "print(a)"
   ]
  },
  {
   "cell_type": "markdown",
   "id": "9f472b22",
   "metadata": {},
   "source": [
    "**TASK 7 : No. of days needed to complete 3328km** "
   ]
  },
  {
   "cell_type": "code",
   "execution_count": 9,
   "id": "89a84dc1",
   "metadata": {},
   "outputs": [
    {
     "name": "stdout",
     "output_type": "stream",
     "text": [
      "Athlete will need 5.097222222222222 days to complete 3328km\n"
     ]
    }
   ],
   "source": [
    "time_min_Laps = no_of_laps * 2\n",
    "time_min_Rest = (no_of_laps/5) * 10\n",
    "time_min_lunch = 60\n",
    "time_min_ride = 600\n",
    "total_days = ((time_min_Laps + time_min_Rest + time_min_lunch + time_min_ride)/60)/24\n",
    "l = \"Athlete will need {v} days to complete 3328km\".format(v=total_days)\n",
    "print(l)"
   ]
  },
  {
   "cell_type": "markdown",
   "id": "97a32d4a",
   "metadata": {},
   "source": [
    "**TASK 8:Calculate no. of bottles of Grape Juice**"
   ]
  },
  {
   "cell_type": "code",
   "execution_count": 34,
   "id": "fff33833",
   "metadata": {},
   "outputs": [
    {
     "name": "stdout",
     "output_type": "stream",
     "text": [
      "Matt will require 5.6 bottles of grape juice for two weeks\n"
     ]
    }
   ],
   "source": [
    "total_oz = 10 * 14\n",
    "total_ml = (total_oz) * 30\n",
    "no_of_bottles = (total_ml)/750\n",
    "x = \"Matt will require {b} bottles of grape juice for two weeks\".format(b=no_of_bottles)\n",
    "print(x)"
   ]
  },
  {
   "cell_type": "markdown",
   "id": "8a3c55e7",
   "metadata": {},
   "source": [
    "**TASK 9:Save Jupyter Notebook in three different formats** "
   ]
  },
  {
   "cell_type": "markdown",
   "id": "f2c67267",
   "metadata": {},
   "source": [
    "**TASK 9a:In .ipynb**"
   ]
  },
  {
   "cell_type": "markdown",
   "id": "124722ee",
   "metadata": {},
   "source": [
    "1. Move to 'File'\n",
    "2. Click on 'Download as'\n",
    "3. Select 'Notebook(.ipynb)'"
   ]
  },
  {
   "cell_type": "markdown",
   "id": "c434b9c8",
   "metadata": {},
   "source": [
    "**TASK 9b:In .py**"
   ]
  },
  {
   "cell_type": "markdown",
   "id": "a8fcb70f",
   "metadata": {},
   "source": [
    "1. Move to 'File'\n",
    "2. Click on 'Download as'\n",
    "3. Select 'Python(.py)'"
   ]
  },
  {
   "cell_type": "markdown",
   "id": "6411437a",
   "metadata": {},
   "source": [
    "**TASK 9c:In .html**"
   ]
  },
  {
   "cell_type": "markdown",
   "id": "65745d66",
   "metadata": {},
   "source": [
    "1. Move to 'File'\n",
    "2. Click on 'Download as'\n",
    "3. Select 'HTML(.html)'"
   ]
  }
 ],
 "metadata": {
  "kernelspec": {
   "display_name": "Python 3 (ipykernel)",
   "language": "python",
   "name": "python3"
  },
  "language_info": {
   "codemirror_mode": {
    "name": "ipython",
    "version": 3
   },
   "file_extension": ".py",
   "mimetype": "text/x-python",
   "name": "python",
   "nbconvert_exporter": "python",
   "pygments_lexer": "ipython3",
   "version": "3.11.4"
  }
 },
 "nbformat": 4,
 "nbformat_minor": 5
}
