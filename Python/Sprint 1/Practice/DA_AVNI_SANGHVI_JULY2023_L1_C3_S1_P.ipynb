{
 "cells": [
  {
   "cell_type": "markdown",
   "id": "b1de5380",
   "metadata": {},
   "source": [
    "#Task 1: Creating Variables"
   ]
  },
  {
   "cell_type": "markdown",
   "id": "9ab7e959",
   "metadata": {},
   "source": [
    "-->TASK 1a: Create a variable 'rollno' and assign an int value to it.Print value,id and data type of 'rollno'"
   ]
  },
  {
   "cell_type": "code",
   "execution_count": 5,
   "id": "de286dc4",
   "metadata": {},
   "outputs": [
    {
     "name": "stdout",
     "output_type": "stream",
     "text": [
      "1\n",
      "140724082742056\n",
      "<class 'int'>\n"
     ]
    }
   ],
   "source": [
    "rollno = 1 #creating and assigning a value\n",
    "print(rollno) #printing the value\n",
    "print(id(rollno)) #printing id of the variable\n",
    "print(type(rollno)) #printing data type of variable"
   ]
  },
  {
   "cell_type": "markdown",
   "id": "bfb9c1dc",
   "metadata": {},
   "source": [
    "-->TASK 1b: Create a variable 'firstname' and assign a string value to it.Print value,id and data type of 'firstname'"
   ]
  },
  {
   "cell_type": "code",
   "execution_count": 6,
   "id": "b5003c3b",
   "metadata": {},
   "outputs": [
    {
     "name": "stdout",
     "output_type": "stream",
     "text": [
      "Avni\n",
      "1430502057392\n",
      "<class 'str'>\n"
     ]
    }
   ],
   "source": [
    "firstname='Avni' #creating and assigning a value\n",
    "print(firstname) #printing the value\n",
    "print(id(firstname)) #printing id of the variable\n",
    "print(type(firstname)) #printing data type of variable"
   ]
  },
  {
   "cell_type": "markdown",
   "id": "8da1c7a1",
   "metadata": {},
   "source": [
    "-->TASK 1c: Create a variable 'lastname' and assign a string value to it.Print value,id and data type of 'lastname'"
   ]
  },
  {
   "cell_type": "code",
   "execution_count": 8,
   "id": "def5010c",
   "metadata": {},
   "outputs": [
    {
     "name": "stdout",
     "output_type": "stream",
     "text": [
      "Sanghvi\n",
      "1430502084080\n",
      "<class 'str'>\n"
     ]
    }
   ],
   "source": [
    "lastname='Sanghvi' #creating and assigning a value\n",
    "print(lastname) #printing the value\n",
    "print(id(lastname)) #printing id of the variable\n",
    "print(type(lastname)) #printing data type of variable"
   ]
  },
  {
   "cell_type": "markdown",
   "id": "a0365ffb",
   "metadata": {},
   "source": [
    "-->TASK 1d: Create a variable 'maxmarks' and assign value of '50' to it.Print value,id and data type of 'maxmarks'"
   ]
  },
  {
   "cell_type": "code",
   "execution_count": 9,
   "id": "e2da9391",
   "metadata": {},
   "outputs": [
    {
     "name": "stdout",
     "output_type": "stream",
     "text": [
      "50\n",
      "140724082743624\n",
      "<class 'int'>\n"
     ]
    }
   ],
   "source": [
    "maxmarks=50 #creating and assigning a value\n",
    "print(maxmarks) #printing the value\n",
    "print(id(maxmarks)) #printing id of the variable\n",
    "print(type(maxmarks)) #printing data type of variable"
   ]
  },
  {
   "cell_type": "markdown",
   "id": "194f8ace",
   "metadata": {},
   "source": [
    "#Task 2: Naming a Variable"
   ]
  },
  {
   "cell_type": "markdown",
   "id": "10b17a4c",
   "metadata": {},
   "source": [
    "-->TASK 2a: Explain observation for 'var1=2'"
   ]
  },
  {
   "cell_type": "code",
   "execution_count": 12,
   "id": "62cc6a17",
   "metadata": {},
   "outputs": [],
   "source": [
    "var1 = 2\n",
    "#Naming convention for this variable is correct as: \n",
    "# 1. it is starting with a letter\n",
    "# 2. is alpha-numeric\n",
    "# 3. not a keyword\n",
    "# 4. is not starting with a number\n",
    "# 5. no space in between the variable name"
   ]
  },
  {
   "cell_type": "markdown",
   "id": "e0ae91a5",
   "metadata": {},
   "source": [
    "-->TASK 2b: Explain observation for '2var=2'"
   ]
  },
  {
   "cell_type": "code",
   "execution_count": 13,
   "id": "0f83a59c",
   "metadata": {},
   "outputs": [
    {
     "ename": "SyntaxError",
     "evalue": "invalid decimal literal (2593071960.py, line 1)",
     "output_type": "error",
     "traceback": [
      "\u001b[1;36m  Cell \u001b[1;32mIn[13], line 1\u001b[1;36m\u001b[0m\n\u001b[1;33m    2var = 2\u001b[0m\n\u001b[1;37m    ^\u001b[0m\n\u001b[1;31mSyntaxError\u001b[0m\u001b[1;31m:\u001b[0m invalid decimal literal\n"
     ]
    }
   ],
   "source": [
    "2var = 2\n",
    "#naming convention for this variable is incorrect as:\n",
    "# 1. it is starting with a number"
   ]
  },
  {
   "cell_type": "markdown",
   "id": "b05a4b75",
   "metadata": {},
   "source": [
    "-->TASK 2c: Explain observation for 'var 1 = 2'"
   ]
  },
  {
   "cell_type": "code",
   "execution_count": 14,
   "id": "baf35de5",
   "metadata": {},
   "outputs": [
    {
     "ename": "SyntaxError",
     "evalue": "invalid syntax (1069141224.py, line 1)",
     "output_type": "error",
     "traceback": [
      "\u001b[1;36m  Cell \u001b[1;32mIn[14], line 1\u001b[1;36m\u001b[0m\n\u001b[1;33m    var 1 = 2\u001b[0m\n\u001b[1;37m        ^\u001b[0m\n\u001b[1;31mSyntaxError\u001b[0m\u001b[1;31m:\u001b[0m invalid syntax\n"
     ]
    }
   ],
   "source": [
    "var 1 = 2\n",
    "#naming convention for this variable is incorrect as:\n",
    "# 1. is having space in between the variable name"
   ]
  },
  {
   "cell_type": "markdown",
   "id": "146441c5",
   "metadata": {},
   "source": [
    "-->TASK 2d: Explain observation for 'var$2 = 2'"
   ]
  },
  {
   "cell_type": "code",
   "execution_count": 15,
   "id": "d1a8a674",
   "metadata": {},
   "outputs": [
    {
     "ename": "SyntaxError",
     "evalue": "invalid syntax (2085239645.py, line 1)",
     "output_type": "error",
     "traceback": [
      "\u001b[1;36m  Cell \u001b[1;32mIn[15], line 1\u001b[1;36m\u001b[0m\n\u001b[1;33m    var$2 = 2\u001b[0m\n\u001b[1;37m       ^\u001b[0m\n\u001b[1;31mSyntaxError\u001b[0m\u001b[1;31m:\u001b[0m invalid syntax\n"
     ]
    }
   ],
   "source": [
    "var$2 = 2\n",
    "#naming convention for this variable is incorrect as:\n",
    "# 1. is having a special character in its name"
   ]
  },
  {
   "cell_type": "markdown",
   "id": "3d391b71",
   "metadata": {},
   "source": [
    "#Task 3: Assigning Values to a Variable"
   ]
  },
  {
   "cell_type": "markdown",
   "id": "b515862a",
   "metadata": {},
   "source": [
    "-->TASK 3a: Explain observation for 'Class = 15'"
   ]
  },
  {
   "cell_type": "code",
   "execution_count": 16,
   "id": "4da15b67",
   "metadata": {},
   "outputs": [],
   "source": [
    "Class = 15\n",
    "#Naming convention for this variable is correct as: \n",
    "# 1. it is starting with a letter\n",
    "# 2. not a keyword\n",
    "# 3. not having any special character\n",
    "# 4. is not starting with a number\n",
    "# 5. no space in between the variable name"
   ]
  },
  {
   "cell_type": "markdown",
   "id": "7e6cf7f1",
   "metadata": {},
   "source": [
    "-->TASK 3b: Explain observation for 'class = 14'"
   ]
  },
  {
   "cell_type": "code",
   "execution_count": 17,
   "id": "a90a5d71",
   "metadata": {},
   "outputs": [
    {
     "ename": "SyntaxError",
     "evalue": "invalid syntax (1242795455.py, line 1)",
     "output_type": "error",
     "traceback": [
      "\u001b[1;36m  Cell \u001b[1;32mIn[17], line 1\u001b[1;36m\u001b[0m\n\u001b[1;33m    class = 14\u001b[0m\n\u001b[1;37m          ^\u001b[0m\n\u001b[1;31mSyntaxError\u001b[0m\u001b[1;31m:\u001b[0m invalid syntax\n"
     ]
    }
   ],
   "source": [
    "class = 14\n",
    "#naming convention for this variable is incorrect as:\n",
    "# 1. is using a keyword for variable name"
   ]
  },
  {
   "cell_type": "markdown",
   "id": "afddd714",
   "metadata": {},
   "source": [
    "-->TASK 3c: Explain observation for 'DEF = 13'"
   ]
  },
  {
   "cell_type": "code",
   "execution_count": 18,
   "id": "a0d93b1c",
   "metadata": {},
   "outputs": [],
   "source": [
    "DEF = 13\n",
    "#Naming convention for this variable is correct as: \n",
    "# 1. it is starting with a letter\n",
    "# 2. not a keyword\n",
    "# 3. not having any special character\n",
    "# 4. is not starting with a number\n",
    "# 5. no space in between the variable name"
   ]
  },
  {
   "cell_type": "markdown",
   "id": "567090e9",
   "metadata": {},
   "source": [
    "-->TASK 3d: Explain observation for 'def = 12'"
   ]
  },
  {
   "cell_type": "code",
   "execution_count": 19,
   "id": "0eb7f3e7",
   "metadata": {},
   "outputs": [
    {
     "ename": "SyntaxError",
     "evalue": "invalid syntax (1759817278.py, line 1)",
     "output_type": "error",
     "traceback": [
      "\u001b[1;36m  Cell \u001b[1;32mIn[19], line 1\u001b[1;36m\u001b[0m\n\u001b[1;33m    def = 12\u001b[0m\n\u001b[1;37m        ^\u001b[0m\n\u001b[1;31mSyntaxError\u001b[0m\u001b[1;31m:\u001b[0m invalid syntax\n"
     ]
    }
   ],
   "source": [
    "def = 12\n",
    "#naming convention for this variable is incorrect as:\n",
    "# 1. is using a keyword for variable name"
   ]
  },
  {
   "cell_type": "markdown",
   "id": "f6358710",
   "metadata": {},
   "source": [
    "-->TASK 3e: Explain observation for 'a = TRUE'"
   ]
  },
  {
   "cell_type": "code",
   "execution_count": 22,
   "id": "9145e35e",
   "metadata": {},
   "outputs": [
    {
     "ename": "NameError",
     "evalue": "name 'TRUE' is not defined",
     "output_type": "error",
     "traceback": [
      "\u001b[1;31m---------------------------------------------------------------------------\u001b[0m",
      "\u001b[1;31mNameError\u001b[0m                                 Traceback (most recent call last)",
      "Cell \u001b[1;32mIn[22], line 1\u001b[0m\n\u001b[1;32m----> 1\u001b[0m a \u001b[38;5;241m=\u001b[39m TRUE\n",
      "\u001b[1;31mNameError\u001b[0m: name 'TRUE' is not defined"
     ]
    }
   ],
   "source": [
    "a = TRUE\n",
    "#if \"TRUE\" is used as a boolean value, then it must be written as \"True\" i.e., not all in caps.\n",
    "#if \"TRUE\" is used as string value, then it enclosed within single/double quotes"
   ]
  },
  {
   "cell_type": "markdown",
   "id": "33254319",
   "metadata": {},
   "source": [
    "-->TASK 3f: Explain observation for 'b = false'"
   ]
  },
  {
   "cell_type": "code",
   "execution_count": 23,
   "id": "ae85c831",
   "metadata": {},
   "outputs": [
    {
     "ename": "NameError",
     "evalue": "name 'false' is not defined",
     "output_type": "error",
     "traceback": [
      "\u001b[1;31m---------------------------------------------------------------------------\u001b[0m",
      "\u001b[1;31mNameError\u001b[0m                                 Traceback (most recent call last)",
      "Cell \u001b[1;32mIn[23], line 1\u001b[0m\n\u001b[1;32m----> 1\u001b[0m b \u001b[38;5;241m=\u001b[39m false\n",
      "\u001b[1;31mNameError\u001b[0m: name 'false' is not defined"
     ]
    }
   ],
   "source": [
    "b = false\n",
    "#if \"false\" is used as a boolean value, then it must be written as \"False\" i.e., not all in caps.\n",
    "#if \"false\" is used as string value, then it enclosed within single/double quotes"
   ]
  },
  {
   "cell_type": "markdown",
   "id": "395cd60c",
   "metadata": {},
   "source": [
    "#Task 4: Using id()"
   ]
  },
  {
   "cell_type": "markdown",
   "id": "dc4f6418",
   "metadata": {},
   "source": [
    "-->TASK 4a:Create variable named 'marks' and assign a float value between 0 and 100.Print value,id and data type of 'marks'"
   ]
  },
  {
   "cell_type": "code",
   "execution_count": 25,
   "id": "884acbc7",
   "metadata": {},
   "outputs": [
    {
     "name": "stdout",
     "output_type": "stream",
     "text": [
      "87.8\n",
      "1430501981232\n",
      "<class 'float'>\n"
     ]
    }
   ],
   "source": [
    "marks = 87.8 #Creating a value and assigning a float value to it\n",
    "print(marks)\n",
    "print(id(marks))\n",
    "print(type(marks))"
   ]
  },
  {
   "cell_type": "markdown",
   "id": "c1fa0108",
   "metadata": {},
   "source": [
    "-->TASK 4b:Change the value of 'marks' to any other float value between 0 and 100.Print value,id and data type of 'marks'"
   ]
  },
  {
   "cell_type": "code",
   "execution_count": 26,
   "id": "0eb747e4",
   "metadata": {},
   "outputs": [
    {
     "name": "stdout",
     "output_type": "stream",
     "text": [
      "84.3\n",
      "1430515127888\n",
      "<class 'float'>\n"
     ]
    }
   ],
   "source": [
    "marks = 84.3 #Creating the value to a different float value\n",
    "print(marks)\n",
    "print(id(marks))\n",
    "print(type(marks))"
   ]
  },
  {
   "cell_type": "markdown",
   "id": "8b8b790d",
   "metadata": {},
   "source": [
    "-->TASK 4c:Is value of 'id' for 'marks' variable same or different. Give justification"
   ]
  },
  {
   "cell_type": "markdown",
   "id": "bf1b9498",
   "metadata": {},
   "source": [
    "The value of 'id' in last two executions is different. This comes out different because the 'id' of a varible depends on the value which it holds. Once the value changes, the 'id' will also change."
   ]
  },
  {
   "cell_type": "markdown",
   "id": "fbdaa0e2",
   "metadata": {},
   "source": [
    "#Task 5: Formatting the output"
   ]
  },
  {
   "cell_type": "markdown",
   "id": "00a92362",
   "metadata": {},
   "source": [
    "-->TASK 5a: Define variable 'maxmarks' and assign 100 to it. Divide 'marks' by 'maxmarks'. Print the o/p as percentage."
   ]
  },
  {
   "cell_type": "code",
   "execution_count": 33,
   "id": "d9de4957",
   "metadata": {},
   "outputs": [
    {
     "name": "stdout",
     "output_type": "stream",
     "text": [
      "84.3%\n"
     ]
    }
   ],
   "source": [
    "maxmarks = 100\n",
    "print(str((marks/maxmarks)*100) + \"%\")"
   ]
  },
  {
   "cell_type": "markdown",
   "id": "6bafa9a0",
   "metadata": {},
   "source": [
    "-->TASK 5b: Print value of variable 'fullname' by joining 'firstname' and 'lastname'."
   ]
  },
  {
   "cell_type": "code",
   "execution_count": 35,
   "id": "883e8cf1",
   "metadata": {},
   "outputs": [
    {
     "name": "stdout",
     "output_type": "stream",
     "text": [
      "Avni Sanghvi\n"
     ]
    }
   ],
   "source": [
    "fullname = firstname + \" \" + lastname\n",
    "print(fullname)"
   ]
  },
  {
   "cell_type": "markdown",
   "id": "85f459d2",
   "metadata": {},
   "source": [
    "-->TASK 5c: Print value of variable 'fullname' followed by word 'scored' and the value of 'marks'."
   ]
  },
  {
   "cell_type": "code",
   "execution_count": 40,
   "id": "247ad959",
   "metadata": {},
   "outputs": [
    {
     "name": "stdout",
     "output_type": "stream",
     "text": [
      "Avni Sanghvi scored 84.3%\n"
     ]
    }
   ],
   "source": [
    "print(fullname+\" scored \"+str(marks)+\"%\")"
   ]
  },
  {
   "cell_type": "markdown",
   "id": "c052860a",
   "metadata": {},
   "source": [
    "#TASK 6: Creating Data Structures"
   ]
  },
  {
   "cell_type": "markdown",
   "id": "66b9c0f0",
   "metadata": {},
   "source": [
    "-->TASK 6a:Use 'rollno' & 'fullname' to create a dictionary"
   ]
  },
  {
   "cell_type": "code",
   "execution_count": 43,
   "id": "c1f014f3",
   "metadata": {},
   "outputs": [],
   "source": [
    "dict1 = {rollno:fullname} #'rollno' is key and 'fullname' is value"
   ]
  },
  {
   "cell_type": "markdown",
   "id": "bc6056d5",
   "metadata": {},
   "source": [
    "-->TASK 6b:Use 'rollno','fullname' & 'marks' to create a list"
   ]
  },
  {
   "cell_type": "code",
   "execution_count": 47,
   "id": "f37851e8",
   "metadata": {},
   "outputs": [],
   "source": [
    "list1 = [rollno,fullname,marks]"
   ]
  },
  {
   "cell_type": "markdown",
   "id": "d00016f1",
   "metadata": {},
   "source": [
    "#TASK 7: Arithmetic Operations"
   ]
  },
  {
   "cell_type": "markdown",
   "id": "b39071c3",
   "metadata": {},
   "source": [
    "-->TASK 7a: Explain observation for: 1 + \"2\""
   ]
  },
  {
   "cell_type": "code",
   "execution_count": 50,
   "id": "b97733ba",
   "metadata": {},
   "outputs": [
    {
     "ename": "TypeError",
     "evalue": "unsupported operand type(s) for +: 'int' and 'str'",
     "output_type": "error",
     "traceback": [
      "\u001b[1;31m---------------------------------------------------------------------------\u001b[0m",
      "\u001b[1;31mTypeError\u001b[0m                                 Traceback (most recent call last)",
      "Cell \u001b[1;32mIn[50], line 1\u001b[0m\n\u001b[1;32m----> 1\u001b[0m \u001b[38;5;241m1\u001b[39m \u001b[38;5;241m+\u001b[39m \u001b[38;5;124m\"\u001b[39m\u001b[38;5;124m2\u001b[39m\u001b[38;5;124m\"\u001b[39m\n",
      "\u001b[1;31mTypeError\u001b[0m: unsupported operand type(s) for +: 'int' and 'str'"
     ]
    }
   ],
   "source": [
    "1 + \"2\"\n",
    "#Here, 1 is of integer type and 2 is of string type and + is doing concatination, which works on strings only. \n",
    "#Hence, those two can't be concatinated."
   ]
  },
  {
   "cell_type": "markdown",
   "id": "9e2b7764",
   "metadata": {},
   "source": [
    "-->TASK 7b: Explain observation for: \"1\" + \"2\""
   ]
  },
  {
   "cell_type": "code",
   "execution_count": 51,
   "id": "73a0eb0b",
   "metadata": {},
   "outputs": [
    {
     "data": {
      "text/plain": [
       "'12'"
      ]
     },
     "execution_count": 51,
     "metadata": {},
     "output_type": "execute_result"
    }
   ],
   "source": [
    "\"1\" + \"2\"\n",
    "#Here, both 1 and 2 are string type which are being concatinated by +.\n",
    "#Hence, output as 12"
   ]
  },
  {
   "cell_type": "markdown",
   "id": "2c00698f",
   "metadata": {},
   "source": [
    "-->TASK 7c: Explain observation for: 1/2"
   ]
  },
  {
   "cell_type": "code",
   "execution_count": 52,
   "id": "04b2642e",
   "metadata": {},
   "outputs": [
    {
     "data": {
      "text/plain": [
       "0.5"
      ]
     },
     "execution_count": 52,
     "metadata": {},
     "output_type": "execute_result"
    }
   ],
   "source": [
    "1/2\n",
    "#The '/' operator is dividing 1 by 2.Hence, giving the quotient as output."
   ]
  },
  {
   "cell_type": "markdown",
   "id": "948184e9",
   "metadata": {},
   "source": [
    "-->TASK 7d: Explain observation for: 1//2"
   ]
  },
  {
   "cell_type": "code",
   "execution_count": 54,
   "id": "793793d1",
   "metadata": {},
   "outputs": [
    {
     "data": {
      "text/plain": [
       "0"
      ]
     },
     "execution_count": 54,
     "metadata": {},
     "output_type": "execute_result"
    }
   ],
   "source": [
    "1//2\n",
    "#The '//' operator performs floor division and will remove decimal part from the result and present the output."
   ]
  },
  {
   "cell_type": "markdown",
   "id": "e2230ef8",
   "metadata": {},
   "source": [
    "#TASK 8: Logical Operation"
   ]
  },
  {
   "cell_type": "markdown",
   "id": "3bfc8639",
   "metadata": {},
   "source": [
    "-->TASK 8a: Explain output for: True and True"
   ]
  },
  {
   "cell_type": "code",
   "execution_count": 55,
   "id": "378d21c2",
   "metadata": {},
   "outputs": [
    {
     "data": {
      "text/plain": [
       "True"
      ]
     },
     "execution_count": 55,
     "metadata": {},
     "output_type": "execute_result"
    }
   ],
   "source": [
    "True and True\n",
    "#'and' operator returns true when both the operands are true otherwise returns false."
   ]
  },
  {
   "cell_type": "markdown",
   "id": "31d1b61f",
   "metadata": {},
   "source": [
    "-->TASK 8b: Explain output for: True and False"
   ]
  },
  {
   "cell_type": "code",
   "execution_count": 56,
   "id": "99b08be9",
   "metadata": {},
   "outputs": [
    {
     "data": {
      "text/plain": [
       "False"
      ]
     },
     "execution_count": 56,
     "metadata": {},
     "output_type": "execute_result"
    }
   ],
   "source": [
    "True and False\n",
    "#'and' operator returns true when both the operands are true otherwise returns false."
   ]
  },
  {
   "cell_type": "markdown",
   "id": "66602404",
   "metadata": {},
   "source": [
    "-->TASK 8c: Explain output for: False or True"
   ]
  },
  {
   "cell_type": "code",
   "execution_count": 57,
   "id": "ffdfca7a",
   "metadata": {},
   "outputs": [
    {
     "data": {
      "text/plain": [
       "True"
      ]
     },
     "execution_count": 57,
     "metadata": {},
     "output_type": "execute_result"
    }
   ],
   "source": [
    "False or True\n",
    "#'or' operator returns true when either one of the operands is true otherwise returns false."
   ]
  },
  {
   "cell_type": "markdown",
   "id": "43a251f8",
   "metadata": {},
   "source": [
    "-->TASK 8d: Explain output for: False or False"
   ]
  },
  {
   "cell_type": "code",
   "execution_count": 58,
   "id": "5a7d7a2f",
   "metadata": {},
   "outputs": [
    {
     "data": {
      "text/plain": [
       "False"
      ]
     },
     "execution_count": 58,
     "metadata": {},
     "output_type": "execute_result"
    }
   ],
   "source": [
    "False or False\n",
    "#'or' operator returns true when either one of the operands is true otherwise returns false."
   ]
  },
  {
   "cell_type": "markdown",
   "id": "840ffe39",
   "metadata": {},
   "source": [
    "#TASK 9: Identity and Membership Operations"
   ]
  },
  {
   "cell_type": "markdown",
   "id": "9e12c6e7",
   "metadata": {},
   "source": [
    "-->TASK 9a: Compare 'firstname' and 'fullname' using 'in' operator.Print and explain the output"
   ]
  },
  {
   "cell_type": "code",
   "execution_count": 60,
   "id": "3ce8b564",
   "metadata": {},
   "outputs": [
    {
     "name": "stdout",
     "output_type": "stream",
     "text": [
      "True\n"
     ]
    }
   ],
   "source": [
    "i = firstname in fullname\n",
    "print(i)\n",
    "#'in' operator looks for operand in sequence. If found returns true otherwise false.\n",
    "#Here, 'in' looks for firstname(Avni) in fullname(Avni Sanghvi). Since, it was there, it returned True."
   ]
  },
  {
   "cell_type": "markdown",
   "id": "930d8dbf",
   "metadata": {},
   "source": [
    "-->TASK 9b: Compare 'firstname' and 'fullname' using 'is' operator.Print and explain the output"
   ]
  },
  {
   "cell_type": "code",
   "execution_count": 61,
   "id": "0c155468",
   "metadata": {},
   "outputs": [
    {
     "name": "stdout",
     "output_type": "stream",
     "text": [
      "False\n"
     ]
    }
   ],
   "source": [
    "j = firstname is fullname\n",
    "print(j)\n",
    "#'is' operator matches the operand with the sequence. If it matches completely, it will return True and otherwise False.\n",
    "#Here, firstname(Avni) does not completely match fullname(Avni Sanghvi). Hence, returning False"
   ]
  },
  {
   "cell_type": "markdown",
   "id": "907f07f5",
   "metadata": {},
   "source": [
    "#TASK 10: Associativity\n",
    "Given that a=4,b=3,c=2, d=a ** b + c and e=a**(b+c)"
   ]
  },
  {
   "cell_type": "markdown",
   "id": "9cb7f892",
   "metadata": {},
   "source": [
    "-->TASK 10a: Print the value of d."
   ]
  },
  {
   "cell_type": "code",
   "execution_count": 62,
   "id": "15ea25b4",
   "metadata": {},
   "outputs": [
    {
     "name": "stdout",
     "output_type": "stream",
     "text": [
      "66\n"
     ]
    }
   ],
   "source": [
    "a = 4\n",
    "b = 3\n",
    "c = 2\n",
    "d = a**b+c\n",
    "print(d)"
   ]
  },
  {
   "cell_type": "markdown",
   "id": "0a06aab7",
   "metadata": {},
   "source": [
    "-->TASK 10b: Print the value of e."
   ]
  },
  {
   "cell_type": "code",
   "execution_count": 63,
   "id": "4179653d",
   "metadata": {},
   "outputs": [
    {
     "name": "stdout",
     "output_type": "stream",
     "text": [
      "1024\n"
     ]
    }
   ],
   "source": [
    "e = a**(b+c)\n",
    "print(e)"
   ]
  },
  {
   "cell_type": "markdown",
   "id": "d4cb2d08",
   "metadata": {},
   "source": [
    "-->TASK 10c: Explain why the values of d and e same or different."
   ]
  },
  {
   "cell_type": "markdown",
   "id": "cba1a2fc",
   "metadata": {},
   "source": [
    "The values of 'd' and 'e' differ because of the precedence order of operators which is being followed.\n",
    "As per precedence order, the order is: Parenthesis>Exponent>Addition.\n",
    "In Task 10a, first exponent is performed and then addition ie., 4 ** 3 + 2= 64 + 2 = 66\n",
    "In Task 10b, first parenthesis is performed and then exponent i.e., 4 ** (3 + 2)= 4 ** 5=1024"
   ]
  }
 ],
 "metadata": {
  "kernelspec": {
   "display_name": "Python 3 (ipykernel)",
   "language": "python",
   "name": "python3"
  },
  "language_info": {
   "codemirror_mode": {
    "name": "ipython",
    "version": 3
   },
   "file_extension": ".py",
   "mimetype": "text/x-python",
   "name": "python",
   "nbconvert_exporter": "python",
   "pygments_lexer": "ipython3",
   "version": "3.11.4"
  }
 },
 "nbformat": 4,
 "nbformat_minor": 5
}
