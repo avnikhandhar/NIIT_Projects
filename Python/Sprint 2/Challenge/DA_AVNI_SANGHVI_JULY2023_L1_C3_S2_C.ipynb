{
 "cells": [
  {
   "cell_type": "markdown",
   "id": "6e79e24b",
   "metadata": {},
   "source": [
    "**TASK 1: Check for Leap Year**"
   ]
  },
  {
   "cell_type": "code",
   "execution_count": 5,
   "id": "9cbc860d",
   "metadata": {},
   "outputs": [
    {
     "name": "stdout",
     "output_type": "stream",
     "text": [
      "Enter the year(from 1900 to 2100) to be checked: 2016\n",
      "2016 is a leap year\n"
     ]
    }
   ],
   "source": [
    "y = int(input(\"Enter the year(from 1900 to 2100) to be checked: \"))\n",
    "if y>1900 and y<2100:\n",
    "    if y%400 == 0 or y%4 == 0 and y%100 != 0:\n",
    "        print(y,\"is a leap year\")\n",
    "    else:\n",
    "        print(y,\"is not a leap year\")\n",
    "else:\n",
    "    print(\"Error! The year should be in the range of 1900 and 2100\")"
   ]
  },
  {
   "cell_type": "markdown",
   "id": "7ba09fc4",
   "metadata": {},
   "source": [
    "**TASK 2: Get month name and number of days in it**"
   ]
  },
  {
   "cell_type": "code",
   "execution_count": 27,
   "id": "099f004a",
   "metadata": {},
   "outputs": [
    {
     "name": "stdout",
     "output_type": "stream",
     "text": [
      "Enter a number from between 1 and 12:2\n",
      "Month is February with 28 days\n"
     ]
    }
   ],
   "source": [
    "month = {1:[\"January\",31],2:[\"February\",28],3:[\"March\",31],4:[\"April\",30],5:[\"May\",31],6:[\"June\",30],7:[\"July\",31],8:[\"August\",31],9:[\"September\",30],10:[\"October\",31],11:[\"November\",30],12:[\"December\",31]}\n",
    "\n",
    "c = int(input(\"Enter a number from between 1 and 12:\"))\n",
    "\n",
    "if c>=1 and c<=12:\n",
    "    if c==1:\n",
    "        print(\"Month is\",month[c][0],\"with\",month[c][1],\"days\")\n",
    "    elif c==2:\n",
    "        print(\"Month is\",month[c][0],\"with\",month[c][1],\"days\")\n",
    "    elif c==3:\n",
    "        print(\"Month is\",month[c][0],\"with\",month[c][1],\"days\")\n",
    "    elif c==4:\n",
    "        print(\"Month is\",month[c][0],\"with\",month[c][1],\"days\")\n",
    "    elif c==5:\n",
    "        print(\"Month is\",month[c][0],\"with\",month[c][1],\"days\")\n",
    "    elif c==6:\n",
    "        print(\"Month is\",month[c][0],\"with\",month[c][1],\"days\")\n",
    "    elif c==7:\n",
    "        print(\"Month is\",month[c][0],\"with\",month[c][1],\"days\")\n",
    "    elif c==8:\n",
    "        print(\"Month is\",month[c][0],\"with\",month[c][1],\"days\")\n",
    "    elif c==9:\n",
    "        print(\"Month is\",month[c][0],\"with\",month[c][1],\"days\")\n",
    "    elif c==10:\n",
    "        print(\"Month is\",month[c][0],\"with\",month[c][1],\"days\")\n",
    "    elif c==11:\n",
    "        print(\"Month is\",month[c][0],\"with\",month[c][1],\"days\")\n",
    "    else:\n",
    "        print(\"Month is\",month[c][0],\"with\",month[c][1],\"days\")\n",
    "else:\n",
    "    print(\"Incorrect input\")"
   ]
  },
  {
   "cell_type": "markdown",
   "id": "5c630805",
   "metadata": {},
   "source": [
    "**TASK 3: Calculate the bill after discount**"
   ]
  },
  {
   "cell_type": "code",
   "execution_count": 24,
   "id": "950c0d93",
   "metadata": {},
   "outputs": [
    {
     "name": "stdout",
     "output_type": "stream",
     "text": [
      "Enter the bill amount400\n",
      "The total bill is 400\n",
      "The discount calculated is: 100.0\n",
      "The discounted bill is: 300.0\n"
     ]
    }
   ],
   "source": [
    "b = int(input(\"Enter the bill amount\"))\n",
    "\n",
    "if b<100:\n",
    "        d = 0\n",
    "elif b<150:\n",
    "        d = (10*b)/100\n",
    "elif b<250:\n",
    "        d = (15*b)/100\n",
    "else:\n",
    "        d = (25*b)/100\n",
    "        \n",
    "discount_bill = b - d\n",
    "print(\"The total bill is\",b)\n",
    "print(\"The discount calculated is:\",d)\n",
    "print(\"The discounted bill is:\",discount_bill)"
   ]
  },
  {
   "cell_type": "markdown",
   "id": "b030acea",
   "metadata": {},
   "source": [
    "**TASK 4: Rock-Paper-Scissors Game**"
   ]
  },
  {
   "cell_type": "code",
   "execution_count": 37,
   "id": "7da2fac3",
   "metadata": {},
   "outputs": [
    {
     "name": "stdout",
     "output_type": "stream",
     "text": [
      "Choose your option: 1 for Rock,2 for Paper,3 for Scissors 2\n",
      "Computer's Turn\n",
      "Computer plays Scissors\n",
      "User plays Paper\n",
      "Computer wins\n"
     ]
    }
   ],
   "source": [
    "import random\n",
    "\n",
    "u = int(input(\"Choose your option: 1 for Rock,2 for Paper,3 for Scissors \"))\n",
    "\n",
    "c_choice = [\"Rock\",\"Paper\",\"Scissors\"]\n",
    "              0      1         2\n",
    "\n",
    "if u==1 or u==2 or u==3:\n",
    "    print(\"Computer's Turn\")\n",
    "    comp = random.randint(0,2)\n",
    "    if comp==0:\n",
    "        print(\"Computer plays\",c_choice[comp])\n",
    "        if u==1:\n",
    "            u_choice = \"Rock\"\n",
    "            print(\"User plays\",u_choice)\n",
    "            print(\"Tie between players\")\n",
    "        elif u==2:\n",
    "            u_choice = \"Paper\"\n",
    "            print(\"User plays\",u_choice)\n",
    "            print(\"User wins\")\n",
    "        else:\n",
    "            u_choice = \"Scissors\"\n",
    "            print(\"User plays\",u_choice)\n",
    "            print(\"Computer wins\")\n",
    "    if comp==1:\n",
    "        print(\"Computer plays\",c_choice[comp])\n",
    "        if u==1:\n",
    "            u_choice = \"Rock\"\n",
    "            print(\"User plays\",u_choice)\n",
    "            print(\"Computer wins\")\n",
    "        elif u==2:\n",
    "            u_choice = \"Paper\"\n",
    "            print(\"User plays\",u_choice)\n",
    "            print(\"Tie between players\")\n",
    "        else:\n",
    "            u_choice = \"Scissors\"\n",
    "            print(\"User plays\",u_choice)\n",
    "            print(\"User wins\")\n",
    "    if comp==2:\n",
    "        print(\"Computer plays\",c_choice[comp])\n",
    "        if u==1:\n",
    "            u_choice = \"Rock\"\n",
    "            print(\"User plays\",u_choice)\n",
    "            print(\"User wins\")\n",
    "        elif u==2:\n",
    "            u_choice = \"Paper\"\n",
    "            print(\"User plays\",u_choice)\n",
    "            print(\"Computer wins\")\n",
    "        else:\n",
    "            u_choice = \"Scissors\"\n",
    "            print(\"User plays\",u_choice)\n",
    "            print(\"Tie between the players\")\n",
    "else:\n",
    "    print(\"User chose wrong option\")"
   ]
  }
 ],
 "metadata": {
  "kernelspec": {
   "display_name": "Python 3 (ipykernel)",
   "language": "python",
   "name": "python3"
  },
  "language_info": {
   "codemirror_mode": {
    "name": "ipython",
    "version": 3
   },
   "file_extension": ".py",
   "mimetype": "text/x-python",
   "name": "python",
   "nbconvert_exporter": "python",
   "pygments_lexer": "ipython3",
   "version": "3.11.4"
  }
 },
 "nbformat": 4,
 "nbformat_minor": 5
}
