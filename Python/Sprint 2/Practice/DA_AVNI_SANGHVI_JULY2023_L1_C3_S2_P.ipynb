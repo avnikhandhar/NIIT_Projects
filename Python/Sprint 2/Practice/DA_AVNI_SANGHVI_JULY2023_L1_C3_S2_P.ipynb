{
 "cells": [
  {
   "cell_type": "markdown",
   "id": "354ee52b",
   "metadata": {},
   "source": [
    "**TASK 1: Decision-making Based on User Input**"
   ]
  },
  {
   "cell_type": "code",
   "execution_count": 9,
   "id": "00ec9f09",
   "metadata": {},
   "outputs": [
    {
     "name": "stdout",
     "output_type": "stream",
     "text": [
      "Enter the choice:A/B/C for Python,MySQL,Excel respectively a\n",
      "Python\n"
     ]
    }
   ],
   "source": [
    "c = input(\"Enter the choice:A/B/C for Python,MySQL,Excel respectively \")\n",
    "c = c.upper()\n",
    "if c=='A':\n",
    "    print(\"Python\")\n",
    "elif c=='B':\n",
    "    print(\"MySQL\")\n",
    "elif c=='C':\n",
    "    print(\"Excel\")\n",
    "else:\n",
    "    print(\"Holiday\")"
   ]
  },
  {
   "cell_type": "markdown",
   "id": "475fd479",
   "metadata": {},
   "source": [
    "**TASK 2: Comparing Two Numbers**"
   ]
  },
  {
   "cell_type": "code",
   "execution_count": 4,
   "id": "cc6f68b1",
   "metadata": {},
   "outputs": [
    {
     "name": "stdout",
     "output_type": "stream",
     "text": [
      "Enter the first number 2\n",
      "Enter the second number 6\n",
      "6 is greater\n"
     ]
    }
   ],
   "source": [
    "a = int(input(\"Enter the first number \"))\n",
    "b = int(input(\"Enter the second number \"))\n",
    "\n",
    "if a!=b:\n",
    "    if a>b:\n",
    "        print(a,\"is greater\")\n",
    "    else:\n",
    "        print(b,\"is greater\")\n",
    "else:\n",
    "    print(\"Both are equal\")"
   ]
  },
  {
   "cell_type": "markdown",
   "id": "2ba3de7d",
   "metadata": {},
   "source": [
    "**TASK 3: Calculating Gross Salary**"
   ]
  },
  {
   "cell_type": "code",
   "execution_count": 15,
   "id": "277a59cf",
   "metadata": {},
   "outputs": [
    {
     "name": "stdout",
     "output_type": "stream",
     "text": [
      "Enter the monthly basic salary 12000\n",
      "Gross salary is 187200.0\n"
     ]
    }
   ],
   "source": [
    "sal = int(input(\"Enter the monthly basic salary \"))\n",
    "\n",
    "if sal<4000:\n",
    "    hra = (10*sal)/100\n",
    "    ta = (5*sal)/100\n",
    "elif sal<=10000:\n",
    "    hra = (10*sal)/100\n",
    "    ta = (10*sal)/100\n",
    "else:\n",
    "    hra = (15*sal)/100\n",
    "    ta = (15*sal)/100\n",
    "\n",
    "g_sal = (sal + hra + ta)*12\n",
    "\n",
    "print(\"Gross salary is\",g_sal)"
   ]
  },
  {
   "cell_type": "markdown",
   "id": "e5bf2643",
   "metadata": {},
   "source": [
    "**TASK 4: Searching a word in Paragraph**"
   ]
  },
  {
   "cell_type": "code",
   "execution_count": 19,
   "id": "36044a8b",
   "metadata": {},
   "outputs": [
    {
     "name": "stdout",
     "output_type": "stream",
     "text": [
      "Enter the word to be checked high\n",
      "YES\n"
     ]
    }
   ],
   "source": [
    "var = \"Python is an interpreted,high-level,general-purpose programming language. Its desgin philosophy emphasizes code readability, with its use of significant indentation. Its language constructs as well as its object-oriented approach aim to help programmers write clear, logical code for small and large-scale projects\"\n",
    "w = input(\"Enter the word to be checked \")\n",
    "if w in var:\n",
    "    print(\"YES\")\n",
    "else:\n",
    "    print(\"NO\")"
   ]
  },
  {
   "cell_type": "markdown",
   "id": "8b912ad6",
   "metadata": {},
   "source": [
    "**TASK 5: Checking if a character is upper case or lower case**"
   ]
  },
  {
   "cell_type": "code",
   "execution_count": 30,
   "id": "7e1f8049",
   "metadata": {},
   "outputs": [
    {
     "name": "stdout",
     "output_type": "stream",
     "text": [
      "Enter the alphabet to be checked A\n",
      "UPPERCASE\n"
     ]
    }
   ],
   "source": [
    "x = input(\"Enter the alphabet to be checked \")\n",
    "y = str(x.isupper())\n",
    "if y=='True':\n",
    "    print(\"UPPERCASE\")\n",
    "else:\n",
    "    print(\"lowercase\")"
   ]
  },
  {
   "cell_type": "markdown",
   "id": "a780c724",
   "metadata": {},
   "source": [
    "**TASK 6: Check if alphabet is vowel or consonant**"
   ]
  },
  {
   "cell_type": "code",
   "execution_count": 45,
   "id": "2a48692a",
   "metadata": {},
   "outputs": [
    {
     "name": "stdout",
     "output_type": "stream",
     "text": [
      "Enter the alphabet to be checked A\n",
      "vowel\n"
     ]
    }
   ],
   "source": [
    "t = input(\"Enter the alphabet to be checked \")\n",
    "t = t.lower()\n",
    "if t=='a' or t=='e' or t=='i' or t=='o' or t=='u':\n",
    "    print(\"vowel\")\n",
    "else:\n",
    "    print(\"consonant\")"
   ]
  }
 ],
 "metadata": {
  "kernelspec": {
   "display_name": "Python 3 (ipykernel)",
   "language": "python",
   "name": "python3"
  },
  "language_info": {
   "codemirror_mode": {
    "name": "ipython",
    "version": 3
   },
   "file_extension": ".py",
   "mimetype": "text/x-python",
   "name": "python",
   "nbconvert_exporter": "python",
   "pygments_lexer": "ipython3",
   "version": "3.11.4"
  }
 },
 "nbformat": 4,
 "nbformat_minor": 5
}
